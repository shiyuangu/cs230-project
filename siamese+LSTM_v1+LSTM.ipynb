{
 "cells": [
  {
   "cell_type": "code",
   "execution_count": 1,
   "metadata": {},
   "outputs": [
    {
     "name": "stderr",
     "output_type": "stream",
     "text": [
      "Using TensorFlow backend.\n"
     ]
    }
   ],
   "source": [
    "#compare to siamese+LSTM_v1, weights for word is now trainable(extention to tfidf)\n",
    "import numpy as np \n",
    "import pandas as pd\n",
    "from sklearn.metrics import roc_auc_score, roc_curve, accuracy_score\n",
    "from sklearn.utils import shuffle \n",
    "import keras\n",
    "from keras.layers import Input, LSTM, Dense,Lambda\n",
    "from keras.models import Model\n",
    "from keras.utils import plot_model\n",
    "from keras.layers.embeddings import Embedding\n",
    "from keras import backend as K\n",
    "from keras.layers import multiply\n",
    "from keras.callbacks import EarlyStopping\n",
    "from matplotlib import pyplot as plt\n",
    "import gensim.downloader as api\n",
    "from gensim.models import Word2Vec\n",
    "from gensim.models.keyedvectors import Word2VecKeyedVectors"
   ]
  },
  {
   "cell_type": "code",
   "execution_count": 2,
   "metadata": {},
   "outputs": [],
   "source": [
    "import tensorflow as tf\n",
    "sess = tf.Session(config=tf.ConfigProto(log_device_placement=True))\n",
    "\n",
    "from keras import backend as K\n",
    "K.set_session(sess)"
   ]
  },
  {
   "cell_type": "code",
   "execution_count": 3,
   "metadata": {},
   "outputs": [],
   "source": [
    "#use pre-trained:'Wikipedia 2014 + Gigaword 5 (6B tokens, uncased)'\n",
    "#vocab: 400K\n",
    "# api.info(\"glove-wiki-gigaword-100\")\n",
    "#word_vectors = api.load(\"glove-wiki-gigaword-100\")\n",
    "#word_vectors.save(\"glove-wiki-gigaword-100.model\")\n",
    "word_vectors = Word2VecKeyedVectors.load(\"glove-wiki-gigaword-100.model\")"
   ]
  },
  {
   "cell_type": "code",
   "execution_count": 4,
   "metadata": {},
   "outputs": [],
   "source": [
    "#define the model \n",
    "max_qlen = 50 #Truncate if longer\n",
    "vocab_len = len(word_vectors.vocab)+1\n",
    "wv_len = word_vectors.get_vector(\"the\").shape[0]"
   ]
  },
  {
   "cell_type": "code",
   "execution_count": 5,
   "metadata": {},
   "outputs": [],
   "source": [
    "df_train = pd.read_pickle(\"train_pp.pkl\")\n",
    "df_test = pd.read_pickle(\"test_pp.pkl\")"
   ]
  },
  {
   "cell_type": "code",
   "execution_count": 6,
   "metadata": {},
   "outputs": [
    {
     "data": {
      "text/html": [
       "<div>\n",
       "<style scoped>\n",
       "    .dataframe tbody tr th:only-of-type {\n",
       "        vertical-align: middle;\n",
       "    }\n",
       "\n",
       "    .dataframe tbody tr th {\n",
       "        vertical-align: top;\n",
       "    }\n",
       "\n",
       "    .dataframe thead th {\n",
       "        text-align: right;\n",
       "    }\n",
       "</style>\n",
       "<table border=\"1\" class=\"dataframe\">\n",
       "  <thead>\n",
       "    <tr style=\"text-align: right;\">\n",
       "      <th></th>\n",
       "      <th>id</th>\n",
       "      <th>qid1</th>\n",
       "      <th>qid2</th>\n",
       "      <th>question1</th>\n",
       "      <th>question2</th>\n",
       "      <th>is_duplicate</th>\n",
       "      <th>words_1</th>\n",
       "      <th>words_2</th>\n",
       "      <th>end_punc_1</th>\n",
       "      <th>end_punc_2</th>\n",
       "      <th>is_same_end_punc</th>\n",
       "    </tr>\n",
       "  </thead>\n",
       "  <tbody>\n",
       "    <tr>\n",
       "      <th>145367</th>\n",
       "      <td>145367</td>\n",
       "      <td>229850</td>\n",
       "      <td>229851</td>\n",
       "      <td>Is there only one consciousness?</td>\n",
       "      <td>Is consciousness one for everyone?</td>\n",
       "      <td>1</td>\n",
       "      <td>[is, there, only, one, consciousness, ?]</td>\n",
       "      <td>[is, consciousness, one, for, everyone, ?]</td>\n",
       "      <td>?</td>\n",
       "      <td>?</td>\n",
       "      <td>True</td>\n",
       "    </tr>\n",
       "    <tr>\n",
       "      <th>123169</th>\n",
       "      <td>123169</td>\n",
       "      <td>98309</td>\n",
       "      <td>199206</td>\n",
       "      <td>Which is a suitable solar panel installation p...</td>\n",
       "      <td>Which is a suitable solar panel installation p...</td>\n",
       "      <td>0</td>\n",
       "      <td>[which, is, a, suitable, solar, panel, install...</td>\n",
       "      <td>[which, is, a, suitable, solar, panel, install...</td>\n",
       "      <td>?</td>\n",
       "      <td>?</td>\n",
       "      <td>True</td>\n",
       "    </tr>\n",
       "    <tr>\n",
       "      <th>57880</th>\n",
       "      <td>57880</td>\n",
       "      <td>101653</td>\n",
       "      <td>101654</td>\n",
       "      <td>Is there any idea for a new and useful mini pr...</td>\n",
       "      <td>Are there any new topics in computer science t...</td>\n",
       "      <td>0</td>\n",
       "      <td>[is, there, any, idea, for, a, new, and, usefu...</td>\n",
       "      <td>[are, there, any, new, topic, in, computer, sc...</td>\n",
       "      <td>?</td>\n",
       "      <td>?</td>\n",
       "      <td>True</td>\n",
       "    </tr>\n",
       "    <tr>\n",
       "      <th>213043</th>\n",
       "      <td>213043</td>\n",
       "      <td>318261</td>\n",
       "      <td>318262</td>\n",
       "      <td>What does it mean if a girl cries after hurtin...</td>\n",
       "      <td>What does it mean if a girl cries without any ...</td>\n",
       "      <td>0</td>\n",
       "      <td>[what, doe, it, mean, if, a, girl, cry, after,...</td>\n",
       "      <td>[what, doe, it, mean, if, a, girl, cry, withou...</td>\n",
       "      <td>?</td>\n",
       "      <td>?</td>\n",
       "      <td>True</td>\n",
       "    </tr>\n",
       "    <tr>\n",
       "      <th>204901</th>\n",
       "      <td>204901</td>\n",
       "      <td>307914</td>\n",
       "      <td>307915</td>\n",
       "      <td>What are some wholesale drop shippers that hav...</td>\n",
       "      <td>What portrait lenses are compatible with the C...</td>\n",
       "      <td>0</td>\n",
       "      <td>[what, are, some, wholesale, drop, shipper, th...</td>\n",
       "      <td>[what, portrait, lens, are, compatible, with, ...</td>\n",
       "      <td>?</td>\n",
       "      <td>?</td>\n",
       "      <td>True</td>\n",
       "    </tr>\n",
       "  </tbody>\n",
       "</table>\n",
       "</div>"
      ],
      "text/plain": [
       "            id    qid1    qid2  \\\n",
       "145367  145367  229850  229851   \n",
       "123169  123169   98309  199206   \n",
       "57880    57880  101653  101654   \n",
       "213043  213043  318261  318262   \n",
       "204901  204901  307914  307915   \n",
       "\n",
       "                                                question1  \\\n",
       "145367                   Is there only one consciousness?   \n",
       "123169  Which is a suitable solar panel installation p...   \n",
       "57880   Is there any idea for a new and useful mini pr...   \n",
       "213043  What does it mean if a girl cries after hurtin...   \n",
       "204901  What are some wholesale drop shippers that hav...   \n",
       "\n",
       "                                                question2  is_duplicate  \\\n",
       "145367                 Is consciousness one for everyone?             1   \n",
       "123169  Which is a suitable solar panel installation p...             0   \n",
       "57880   Are there any new topics in computer science t...             0   \n",
       "213043  What does it mean if a girl cries without any ...             0   \n",
       "204901  What portrait lenses are compatible with the C...             0   \n",
       "\n",
       "                                                  words_1  \\\n",
       "145367           [is, there, only, one, consciousness, ?]   \n",
       "123169  [which, is, a, suitable, solar, panel, install...   \n",
       "57880   [is, there, any, idea, for, a, new, and, usefu...   \n",
       "213043  [what, doe, it, mean, if, a, girl, cry, after,...   \n",
       "204901  [what, are, some, wholesale, drop, shipper, th...   \n",
       "\n",
       "                                                  words_2 end_punc_1  \\\n",
       "145367         [is, consciousness, one, for, everyone, ?]          ?   \n",
       "123169  [which, is, a, suitable, solar, panel, install...          ?   \n",
       "57880   [are, there, any, new, topic, in, computer, sc...          ?   \n",
       "213043  [what, doe, it, mean, if, a, girl, cry, withou...          ?   \n",
       "204901  [what, portrait, lens, are, compatible, with, ...          ?   \n",
       "\n",
       "       end_punc_2  is_same_end_punc  \n",
       "145367          ?              True  \n",
       "123169          ?              True  \n",
       "57880           ?              True  \n",
       "213043          ?              True  \n",
       "204901          ?              True  "
      ]
     },
     "execution_count": 6,
     "metadata": {},
     "output_type": "execute_result"
    }
   ],
   "source": [
    "df_train.head()"
   ]
  },
  {
   "cell_type": "code",
   "execution_count": 7,
   "metadata": {},
   "outputs": [],
   "source": [
    "def words2ints(words,max_len):\n",
    "    \"\"\"\n",
    "    turn a list words to their word indices; padd or truncate to  max_len;\n",
    "    @params words: List[str]\n",
    "    return List[int]\n",
    "    \"\"\"\n",
    "    rv = np.zeros((max_len,))\n",
    "    for i,w in enumerate(words[:max_len]): \n",
    "        if w in word_vectors.vocab: \n",
    "            rv[i]=word_vectors.vocab[w].index + 1 #Don't forget to shift since keras use 0 for OOV \n",
    "        else: \n",
    "            rv[i]=0 \n",
    "    return rv "
   ]
  },
  {
   "cell_type": "code",
   "execution_count": 8,
   "metadata": {},
   "outputs": [],
   "source": [
    "df_train['q1_indices'] = df_train['words_1'].apply(lambda x: words2ints(x,max_qlen))\n",
    "df_train['q2_indices'] = df_train['words_2'].apply(lambda x: words2ints(x,max_qlen))\n",
    "df_test['q1_indices'] = df_test['words_1'].apply(lambda x: words2ints(x,max_qlen))\n",
    "df_test['q2_indices'] = df_test['words_2'].apply(lambda x: words2ints(x,max_qlen))\n"
   ]
  },
  {
   "cell_type": "code",
   "execution_count": 9,
   "metadata": {},
   "outputs": [
    {
     "data": {
      "text/html": [
       "<div>\n",
       "<style scoped>\n",
       "    .dataframe tbody tr th:only-of-type {\n",
       "        vertical-align: middle;\n",
       "    }\n",
       "\n",
       "    .dataframe tbody tr th {\n",
       "        vertical-align: top;\n",
       "    }\n",
       "\n",
       "    .dataframe thead th {\n",
       "        text-align: right;\n",
       "    }\n",
       "</style>\n",
       "<table border=\"1\" class=\"dataframe\">\n",
       "  <thead>\n",
       "    <tr style=\"text-align: right;\">\n",
       "      <th></th>\n",
       "      <th>id</th>\n",
       "      <th>qid1</th>\n",
       "      <th>qid2</th>\n",
       "      <th>question1</th>\n",
       "      <th>question2</th>\n",
       "      <th>is_duplicate</th>\n",
       "      <th>words_1</th>\n",
       "      <th>words_2</th>\n",
       "      <th>end_punc_1</th>\n",
       "      <th>end_punc_2</th>\n",
       "      <th>is_same_end_punc</th>\n",
       "      <th>q1_indices</th>\n",
       "      <th>q2_indices</th>\n",
       "    </tr>\n",
       "  </thead>\n",
       "  <tbody>\n",
       "    <tr>\n",
       "      <th>145367</th>\n",
       "      <td>145367</td>\n",
       "      <td>229850</td>\n",
       "      <td>229851</td>\n",
       "      <td>Is there only one consciousness?</td>\n",
       "      <td>Is consciousness one for everyone?</td>\n",
       "      <td>1</td>\n",
       "      <td>[is, there, only, one, consciousness, ?]</td>\n",
       "      <td>[is, consciousness, one, for, everyone, ?]</td>\n",
       "      <td>?</td>\n",
       "      <td>?</td>\n",
       "      <td>True</td>\n",
       "      <td>[15.0, 64.0, 92.0, 49.0, 8658.0, 189.0, 0.0, 0...</td>\n",
       "      <td>[15.0, 8658.0, 49.0, 11.0, 1403.0, 189.0, 0.0,...</td>\n",
       "    </tr>\n",
       "    <tr>\n",
       "      <th>123169</th>\n",
       "      <td>123169</td>\n",
       "      <td>98309</td>\n",
       "      <td>199206</td>\n",
       "      <td>Which is a suitable solar panel installation p...</td>\n",
       "      <td>Which is a suitable solar panel installation p...</td>\n",
       "      <td>0</td>\n",
       "      <td>[which, is, a, suitable, solar, panel, install...</td>\n",
       "      <td>[which, is, a, suitable, solar, panel, install...</td>\n",
       "      <td>?</td>\n",
       "      <td>?</td>\n",
       "      <td>True</td>\n",
       "      <td>[43.0, 15.0, 8.0, 7089.0, 4709.0, 1909.0, 7389...</td>\n",
       "      <td>[43.0, 15.0, 8.0, 7089.0, 4709.0, 1909.0, 7389...</td>\n",
       "    </tr>\n",
       "    <tr>\n",
       "      <th>57880</th>\n",
       "      <td>57880</td>\n",
       "      <td>101653</td>\n",
       "      <td>101654</td>\n",
       "      <td>Is there any idea for a new and useful mini pr...</td>\n",
       "      <td>Are there any new topics in computer science t...</td>\n",
       "      <td>0</td>\n",
       "      <td>[is, there, any, idea, for, a, new, and, usefu...</td>\n",
       "      <td>[are, there, any, new, topic, in, computer, sc...</td>\n",
       "      <td>?</td>\n",
       "      <td>?</td>\n",
       "      <td>True</td>\n",
       "      <td>[15.0, 64.0, 131.0, 1160.0, 11.0, 8.0, 51.0, 6...</td>\n",
       "      <td>[33.0, 64.0, 131.0, 51.0, 6284.0, 7.0, 952.0, ...</td>\n",
       "    </tr>\n",
       "    <tr>\n",
       "      <th>213043</th>\n",
       "      <td>213043</td>\n",
       "      <td>318261</td>\n",
       "      <td>318262</td>\n",
       "      <td>What does it mean if a girl cries after hurtin...</td>\n",
       "      <td>What does it mean if a girl cries without any ...</td>\n",
       "      <td>0</td>\n",
       "      <td>[what, doe, it, mean, if, a, girl, cry, after,...</td>\n",
       "      <td>[what, doe, it, mean, if, a, girl, cry, withou...</td>\n",
       "      <td>?</td>\n",
       "      <td>?</td>\n",
       "      <td>True</td>\n",
       "      <td>[103.0, 14220.0, 21.0, 1703.0, 84.0, 8.0, 1750...</td>\n",
       "      <td>[103.0, 14220.0, 21.0, 1703.0, 84.0, 8.0, 1750...</td>\n",
       "    </tr>\n",
       "    <tr>\n",
       "      <th>204901</th>\n",
       "      <td>204901</td>\n",
       "      <td>307914</td>\n",
       "      <td>307915</td>\n",
       "      <td>What are some wholesale drop shippers that hav...</td>\n",
       "      <td>What portrait lenses are compatible with the C...</td>\n",
       "      <td>0</td>\n",
       "      <td>[what, are, some, wholesale, drop, shipper, th...</td>\n",
       "      <td>[what, portrait, lens, are, compatible, with, ...</td>\n",
       "      <td>?</td>\n",
       "      <td>?</td>\n",
       "      <td>True</td>\n",
       "      <td>[103.0, 33.0, 78.0, 7531.0, 1561.0, 59002.0, 1...</td>\n",
       "      <td>[103.0, 6034.0, 9025.0, 33.0, 11631.0, 18.0, 1...</td>\n",
       "    </tr>\n",
       "  </tbody>\n",
       "</table>\n",
       "</div>"
      ],
      "text/plain": [
       "            id    qid1    qid2  \\\n",
       "145367  145367  229850  229851   \n",
       "123169  123169   98309  199206   \n",
       "57880    57880  101653  101654   \n",
       "213043  213043  318261  318262   \n",
       "204901  204901  307914  307915   \n",
       "\n",
       "                                                question1  \\\n",
       "145367                   Is there only one consciousness?   \n",
       "123169  Which is a suitable solar panel installation p...   \n",
       "57880   Is there any idea for a new and useful mini pr...   \n",
       "213043  What does it mean if a girl cries after hurtin...   \n",
       "204901  What are some wholesale drop shippers that hav...   \n",
       "\n",
       "                                                question2  is_duplicate  \\\n",
       "145367                 Is consciousness one for everyone?             1   \n",
       "123169  Which is a suitable solar panel installation p...             0   \n",
       "57880   Are there any new topics in computer science t...             0   \n",
       "213043  What does it mean if a girl cries without any ...             0   \n",
       "204901  What portrait lenses are compatible with the C...             0   \n",
       "\n",
       "                                                  words_1  \\\n",
       "145367           [is, there, only, one, consciousness, ?]   \n",
       "123169  [which, is, a, suitable, solar, panel, install...   \n",
       "57880   [is, there, any, idea, for, a, new, and, usefu...   \n",
       "213043  [what, doe, it, mean, if, a, girl, cry, after,...   \n",
       "204901  [what, are, some, wholesale, drop, shipper, th...   \n",
       "\n",
       "                                                  words_2 end_punc_1  \\\n",
       "145367         [is, consciousness, one, for, everyone, ?]          ?   \n",
       "123169  [which, is, a, suitable, solar, panel, install...          ?   \n",
       "57880   [are, there, any, new, topic, in, computer, sc...          ?   \n",
       "213043  [what, doe, it, mean, if, a, girl, cry, withou...          ?   \n",
       "204901  [what, portrait, lens, are, compatible, with, ...          ?   \n",
       "\n",
       "       end_punc_2  is_same_end_punc  \\\n",
       "145367          ?              True   \n",
       "123169          ?              True   \n",
       "57880           ?              True   \n",
       "213043          ?              True   \n",
       "204901          ?              True   \n",
       "\n",
       "                                               q1_indices  \\\n",
       "145367  [15.0, 64.0, 92.0, 49.0, 8658.0, 189.0, 0.0, 0...   \n",
       "123169  [43.0, 15.0, 8.0, 7089.0, 4709.0, 1909.0, 7389...   \n",
       "57880   [15.0, 64.0, 131.0, 1160.0, 11.0, 8.0, 51.0, 6...   \n",
       "213043  [103.0, 14220.0, 21.0, 1703.0, 84.0, 8.0, 1750...   \n",
       "204901  [103.0, 33.0, 78.0, 7531.0, 1561.0, 59002.0, 1...   \n",
       "\n",
       "                                               q2_indices  \n",
       "145367  [15.0, 8658.0, 49.0, 11.0, 1403.0, 189.0, 0.0,...  \n",
       "123169  [43.0, 15.0, 8.0, 7089.0, 4709.0, 1909.0, 7389...  \n",
       "57880   [33.0, 64.0, 131.0, 51.0, 6284.0, 7.0, 952.0, ...  \n",
       "213043  [103.0, 14220.0, 21.0, 1703.0, 84.0, 8.0, 1750...  \n",
       "204901  [103.0, 6034.0, 9025.0, 33.0, 11631.0, 18.0, 1...  "
      ]
     },
     "execution_count": 9,
     "metadata": {},
     "output_type": "execute_result"
    }
   ],
   "source": [
    "df_train.head()"
   ]
  },
  {
   "cell_type": "code",
   "execution_count": 10,
   "metadata": {},
   "outputs": [],
   "source": [
    "q1_seq_train = np.vstack(df_train.q1_indices.values)\n",
    "q2_seq_train = np.vstack(df_train.q2_indices.values)\n",
    "q1_seq_test = np.vstack(df_test.q1_indices.values)\n",
    "q2_seq_test = np.vstack(df_test.q2_indices.values)\n",
    "y_train = df_train.is_duplicate.values\n",
    "y_test = df_test.is_duplicate.values"
   ]
  },
  {
   "cell_type": "code",
   "execution_count": 11,
   "metadata": {},
   "outputs": [
    {
     "data": {
      "text/plain": [
       "((323432, 50), (323432, 50), (323432,))"
      ]
     },
     "execution_count": 11,
     "metadata": {},
     "output_type": "execute_result"
    }
   ],
   "source": [
    "q1_seq_train.shape, q2_seq_train.shape, y_train.shape"
   ]
  },
  {
   "cell_type": "code",
   "execution_count": 12,
   "metadata": {},
   "outputs": [
    {
     "data": {
      "text/plain": [
       "((323432, 13), (80858, 13))"
      ]
     },
     "execution_count": 12,
     "metadata": {},
     "output_type": "execute_result"
    }
   ],
   "source": [
    "df_train.shape,df_test.shape"
   ]
  },
  {
   "cell_type": "code",
   "execution_count": 13,
   "metadata": {},
   "outputs": [],
   "source": [
    "#embedding = word_vectors.get_keras_embedding() #Don't use this, gensim doesn't consider OOV https://github.com/RaRe-Technologies/gensim/blob/2ccc82bf50bcfbee44932c160db076a873cf893e/gensim/models/keyedvectors.py#L1491\n",
    "embd_weights = np.zeros((vocab_len,wv_len))\n",
    "embd_weights[1:,:] = word_vectors.vectors\n"
   ]
  },
  {
   "cell_type": "code",
   "execution_count": 14,
   "metadata": {},
   "outputs": [],
   "source": [
    "#define the model \n",
    "word2vec_layer = Embedding(vocab_len, wv_len, trainable=False,weights=[embd_weights],name=\"word2vec\") #check this Emoji and gensim set the weight in different ways\n",
    "get_word_weight_layer = Embedding(vocab_len, 1, trainable=False,weights=[np.ones((vocab_len,1))], activity_regularizer=None, name=\"get_word_weight\") #generalize tf-idf\n",
    "#reduce_layer = Lambda(lambda x: K.sum(x, axis=1), output_shape=lambda s: (s[0], s[2]),name=\"vector_reduction\")\n",
    "#get_word_weight_layer = Embedding(vocab_len, 1, trainable=True,name=\"get_word_weight\") #generalize tf-idf\n",
    "lstm1_layer = LSTM(100,name=\"lstm_1\",return_sequences=True)\n",
    "lstm2_layer = LSTM(100,name=\"lstm_2\")\n",
    "\n",
    "q1 = Input(shape=(max_qlen,),name=\"question_1\")\n",
    "q2 = Input(shape=(max_qlen,),name=\"question_2\")\n",
    "\n",
    "q1_wv,q2_wv = map(word2vec_layer,[q1,q2])\n",
    "q1_ww,q2_ww = map(get_word_weight_layer,[q1,q2])\n",
    "q1_wv_ww,q2_wv_ww = map(multiply, [[q1_wv,q1_ww], [q2_wv,q2_ww]])\n",
    "q1_lstm1_out, q2_lstm1_out = map(lstm1_layer, [q1_wv_ww,q2_wv_ww])\n",
    "q1_final_vec, q2_final_vec = map(lstm2_layer, [q1_lstm1_out, q2_lstm1_out])\n",
    "\n",
    "\n",
    "merged_vector = keras.layers.concatenate([q1_final_vec, q2_final_vec], axis=-1,name=\"merge\")\n",
    "predictions = Dense(1, activation='sigmoid',name=\"sigmoid\")(merged_vector)\n",
    "model = Model(inputs=[q1, q2], outputs=predictions)\n",
    "\n",
    "model.compile(optimizer='adam',\n",
    "              loss='binary_crossentropy',\n",
    "              metrics=['accuracy'])"
   ]
  },
  {
   "cell_type": "code",
   "execution_count": 15,
   "metadata": {},
   "outputs": [
    {
     "name": "stdout",
     "output_type": "stream",
     "text": [
      "Train on 291088 samples, validate on 32344 samples\n",
      "Epoch 1/100\n",
      "291088/291088 [==============================] - 17s 59us/step - loss: 0.6479 - acc: 0.6301 - val_loss: 0.6327 - val_acc: 0.6360\n",
      "Epoch 2/100\n",
      "291088/291088 [==============================] - 15s 50us/step - loss: 0.6232 - acc: 0.6352 - val_loss: 0.6130 - val_acc: 0.6467\n",
      "Epoch 3/100\n",
      "291088/291088 [==============================] - 15s 50us/step - loss: 0.5961 - acc: 0.6807 - val_loss: 0.5811 - val_acc: 0.6950\n",
      "Epoch 4/100\n",
      "291088/291088 [==============================] - 15s 50us/step - loss: 0.5752 - acc: 0.6991 - val_loss: 0.5626 - val_acc: 0.7088\n",
      "Epoch 5/100\n",
      "291088/291088 [==============================] - 15s 50us/step - loss: 0.5641 - acc: 0.7085 - val_loss: 0.5542 - val_acc: 0.7154\n",
      "Epoch 6/100\n",
      "291088/291088 [==============================] - 15s 50us/step - loss: 0.5561 - acc: 0.7158 - val_loss: 0.5480 - val_acc: 0.7202\n",
      "Epoch 7/100\n",
      "291088/291088 [==============================] - 15s 50us/step - loss: 0.5469 - acc: 0.7231 - val_loss: 0.5407 - val_acc: 0.7262\n",
      "Epoch 8/100\n",
      "291088/291088 [==============================] - 15s 50us/step - loss: 0.5461 - acc: 0.7236 - val_loss: 0.5360 - val_acc: 0.7289\n",
      "Epoch 9/100\n",
      "291088/291088 [==============================] - 15s 50us/step - loss: 0.5365 - acc: 0.7300 - val_loss: 0.5340 - val_acc: 0.7327\n",
      "Epoch 10/100\n",
      "291088/291088 [==============================] - 15s 50us/step - loss: 0.5359 - acc: 0.7313 - val_loss: 0.5311 - val_acc: 0.7353\n",
      "Epoch 11/100\n",
      "291088/291088 [==============================] - 15s 50us/step - loss: 0.5285 - acc: 0.7367 - val_loss: 0.5317 - val_acc: 0.7339\n",
      "Epoch 12/100\n",
      "291088/291088 [==============================] - 15s 51us/step - loss: 0.5253 - acc: 0.7385 - val_loss: 0.5250 - val_acc: 0.7395\n",
      "Epoch 13/100\n",
      "291088/291088 [==============================] - 15s 50us/step - loss: 0.5223 - acc: 0.7415 - val_loss: 0.5224 - val_acc: 0.7399\n",
      "Epoch 14/100\n",
      "291088/291088 [==============================] - 15s 50us/step - loss: 0.5210 - acc: 0.7422 - val_loss: 0.5162 - val_acc: 0.7470\n",
      "Epoch 15/100\n",
      "291088/291088 [==============================] - 15s 50us/step - loss: 0.5178 - acc: 0.7447 - val_loss: 0.5153 - val_acc: 0.7469\n",
      "Epoch 16/100\n",
      "291088/291088 [==============================] - 15s 50us/step - loss: 0.5146 - acc: 0.7466 - val_loss: 0.5153 - val_acc: 0.7479\n",
      "Epoch 17/100\n",
      "291088/291088 [==============================] - 15s 50us/step - loss: 0.5101 - acc: 0.7495 - val_loss: 0.5110 - val_acc: 0.7499\n",
      "Epoch 18/100\n",
      "291088/291088 [==============================] - 15s 50us/step - loss: 0.5140 - acc: 0.7463 - val_loss: 0.5239 - val_acc: 0.7393\n",
      "Epoch 19/100\n",
      "291088/291088 [==============================] - 15s 50us/step - loss: 0.5091 - acc: 0.7499 - val_loss: 0.5101 - val_acc: 0.7487\n",
      "Epoch 20/100\n",
      "291088/291088 [==============================] - 15s 50us/step - loss: 0.5049 - acc: 0.7530 - val_loss: 0.5105 - val_acc: 0.7513\n",
      "Epoch 21/100\n",
      "291088/291088 [==============================] - 15s 50us/step - loss: 0.5025 - acc: 0.7541 - val_loss: 0.5122 - val_acc: 0.7480\n",
      "Epoch 22/100\n",
      "291088/291088 [==============================] - 15s 50us/step - loss: 0.5001 - acc: 0.7563 - val_loss: 0.5135 - val_acc: 0.7487\n",
      "Epoch 23/100\n",
      "291088/291088 [==============================] - 15s 50us/step - loss: 0.5010 - acc: 0.7551 - val_loss: 0.5060 - val_acc: 0.7529\n",
      "Epoch 24/100\n",
      "291088/291088 [==============================] - 15s 50us/step - loss: 0.4948 - acc: 0.7592 - val_loss: 0.5043 - val_acc: 0.7545\n",
      "Epoch 25/100\n",
      "291088/291088 [==============================] - 15s 50us/step - loss: 0.4931 - acc: 0.7608 - val_loss: 0.5041 - val_acc: 0.7527\n",
      "Epoch 26/100\n",
      "291088/291088 [==============================] - 15s 50us/step - loss: 0.4951 - acc: 0.7583 - val_loss: 0.5010 - val_acc: 0.7551\n",
      "Epoch 27/100\n",
      "291088/291088 [==============================] - 15s 50us/step - loss: 0.4890 - acc: 0.7630 - val_loss: 0.5022 - val_acc: 0.7541\n",
      "Epoch 28/100\n",
      "291088/291088 [==============================] - 15s 50us/step - loss: 0.4884 - acc: 0.7636 - val_loss: 0.5028 - val_acc: 0.7544\n",
      "Epoch 29/100\n",
      "291088/291088 [==============================] - 15s 50us/step - loss: 0.4973 - acc: 0.7577 - val_loss: 0.5115 - val_acc: 0.7493\n",
      "Epoch 30/100\n",
      "291088/291088 [==============================] - 15s 50us/step - loss: 0.4911 - acc: 0.7615 - val_loss: 0.5073 - val_acc: 0.7503\n",
      "Epoch 31/100\n",
      "291088/291088 [==============================] - 15s 50us/step - loss: 0.4833 - acc: 0.7662 - val_loss: 0.4978 - val_acc: 0.7579\n",
      "Epoch 32/100\n",
      "291088/291088 [==============================] - 15s 50us/step - loss: 0.4800 - acc: 0.7688 - val_loss: 0.4981 - val_acc: 0.7583\n",
      "Epoch 33/100\n",
      "291088/291088 [==============================] - 15s 50us/step - loss: 0.4803 - acc: 0.7675 - val_loss: 0.5000 - val_acc: 0.7571\n",
      "Epoch 34/100\n",
      "291088/291088 [==============================] - 15s 50us/step - loss: 0.4786 - acc: 0.7687 - val_loss: 0.4972 - val_acc: 0.7586\n",
      "Epoch 35/100\n",
      "291088/291088 [==============================] - 15s 50us/step - loss: 0.4779 - acc: 0.7694 - val_loss: 0.4970 - val_acc: 0.7594\n",
      "Epoch 36/100\n",
      "291088/291088 [==============================] - 15s 50us/step - loss: 0.4745 - acc: 0.7708 - val_loss: 0.4959 - val_acc: 0.7583\n",
      "Epoch 37/100\n",
      "291088/291088 [==============================] - 15s 50us/step - loss: 0.4733 - acc: 0.7718 - val_loss: 0.4949 - val_acc: 0.7598\n",
      "Epoch 38/100\n",
      "291088/291088 [==============================] - 15s 50us/step - loss: 0.4695 - acc: 0.7744 - val_loss: 0.4951 - val_acc: 0.7597\n",
      "Epoch 39/100\n",
      "291088/291088 [==============================] - 15s 50us/step - loss: 0.4721 - acc: 0.7725 - val_loss: 0.5057 - val_acc: 0.7480\n",
      "Epoch 40/100\n",
      "291088/291088 [==============================] - 15s 50us/step - loss: 0.4891 - acc: 0.7628 - val_loss: 0.4962 - val_acc: 0.7600\n",
      "Epoch 41/100\n",
      "291088/291088 [==============================] - 15s 50us/step - loss: 0.4676 - acc: 0.7749 - val_loss: 0.5018 - val_acc: 0.7541\n",
      "Epoch 42/100\n",
      "291088/291088 [==============================] - 15s 50us/step - loss: 0.4637 - acc: 0.7774 - val_loss: 0.4930 - val_acc: 0.7609\n",
      "Epoch 43/100\n",
      "291088/291088 [==============================] - 15s 50us/step - loss: 0.4625 - acc: 0.7779 - val_loss: 0.4915 - val_acc: 0.7648\n",
      "Epoch 44/100\n",
      "291088/291088 [==============================] - 15s 50us/step - loss: 0.4614 - acc: 0.7783 - val_loss: 0.4974 - val_acc: 0.7588\n",
      "Epoch 45/100\n",
      "291088/291088 [==============================] - 15s 50us/step - loss: 0.4620 - acc: 0.7780 - val_loss: 0.4923 - val_acc: 0.7651\n",
      "Epoch 46/100\n",
      "291088/291088 [==============================] - 15s 50us/step - loss: 0.4569 - acc: 0.7809 - val_loss: 0.5044 - val_acc: 0.7506\n",
      "Epoch 47/100\n",
      "291088/291088 [==============================] - 15s 50us/step - loss: 0.4597 - acc: 0.7797 - val_loss: 0.4926 - val_acc: 0.7634\n",
      "Epoch 48/100\n",
      "291088/291088 [==============================] - 15s 50us/step - loss: 0.4536 - acc: 0.7829 - val_loss: 0.4974 - val_acc: 0.7605\n",
      "Epoch 49/100\n",
      "291088/291088 [==============================] - 15s 50us/step - loss: 0.4505 - acc: 0.7854 - val_loss: 0.4925 - val_acc: 0.7641\n",
      "Epoch 50/100\n",
      "291088/291088 [==============================] - 15s 50us/step - loss: 0.4479 - acc: 0.7859 - val_loss: 0.4966 - val_acc: 0.7612\n",
      "Epoch 51/100\n",
      "291088/291088 [==============================] - 15s 50us/step - loss: 0.4473 - acc: 0.7861 - val_loss: 0.4888 - val_acc: 0.7656\n",
      "Epoch 52/100\n",
      "291088/291088 [==============================] - 15s 50us/step - loss: 0.4468 - acc: 0.7867 - val_loss: 0.4909 - val_acc: 0.7639\n",
      "Epoch 53/100\n",
      "291088/291088 [==============================] - 15s 50us/step - loss: 0.4475 - acc: 0.7855 - val_loss: 0.5010 - val_acc: 0.7545\n",
      "Epoch 54/100\n",
      "291088/291088 [==============================] - 15s 50us/step - loss: 0.4449 - acc: 0.7865 - val_loss: 0.5021 - val_acc: 0.7606\n",
      "Epoch 55/100\n",
      "291088/291088 [==============================] - 15s 50us/step - loss: 0.4425 - acc: 0.7882 - val_loss: 0.4966 - val_acc: 0.7572\n",
      "Epoch 56/100\n",
      "291088/291088 [==============================] - 15s 50us/step - loss: 0.4382 - acc: 0.7906 - val_loss: 0.4977 - val_acc: 0.7644\n",
      "Epoch 57/100\n",
      "291088/291088 [==============================] - 15s 50us/step - loss: 0.4393 - acc: 0.7899 - val_loss: 0.4989 - val_acc: 0.7644\n",
      "Epoch 58/100\n"
     ]
    },
    {
     "name": "stdout",
     "output_type": "stream",
     "text": [
      "291088/291088 [==============================] - 15s 50us/step - loss: 0.4320 - acc: 0.7935 - val_loss: 0.4930 - val_acc: 0.7652\n",
      "Epoch 59/100\n",
      "291088/291088 [==============================] - 15s 50us/step - loss: 0.4321 - acc: 0.7932 - val_loss: 0.5024 - val_acc: 0.7632\n",
      "Epoch 60/100\n",
      "291088/291088 [==============================] - 15s 50us/step - loss: 0.4282 - acc: 0.7955 - val_loss: 0.5021 - val_acc: 0.7659\n",
      "Epoch 61/100\n",
      "291088/291088 [==============================] - 15s 50us/step - loss: 0.4295 - acc: 0.7948 - val_loss: 0.4979 - val_acc: 0.7651\n"
     ]
    },
    {
     "data": {
      "text/plain": [
       "<keras.callbacks.History at 0x7fda1f0aecc0>"
      ]
     },
     "execution_count": 15,
     "metadata": {},
     "output_type": "execute_result"
    }
   ],
   "source": [
    "callbacks = [EarlyStopping(monitor='val_loss', patience=10, restore_best_weights=True)]\n",
    "# model.fit([q1_seq_train,q2_seq_train], y_train, epochs = 100, batch_size = 8192, shuffle=True,\n",
    "#          validation_data=([q1_seq_test,q2_seq_test],y_test),\n",
    "#          callbacks=callbacks) #100 epoches in total\n",
    "q1_seq_train,q2_seq_train, y_train = shuffle(q1_seq_train,q2_seq_train, y_train, random_state=4)\n",
    "model.fit([q1_seq_train,q2_seq_train], y_train, epochs = 100, batch_size = 8192, shuffle=True,\n",
    "         validation_split=0.1,\n",
    "        callbacks=callbacks) #100 epoches in total"
   ]
  },
  {
   "cell_type": "code",
   "execution_count": 16,
   "metadata": {},
   "outputs": [],
   "source": [
    "y_pred_test = model.predict([q1_seq_test,q2_seq_test],batch_size = 8192)\n",
    "y_pred_train = model.predict([q1_seq_train,q2_seq_train],batch_size = 8192)"
   ]
  },
  {
   "cell_type": "code",
   "execution_count": 17,
   "metadata": {},
   "outputs": [
    {
     "name": "stdout",
     "output_type": "stream",
     "text": [
      "auc_train=0.854522, auc_test=0.820881, accuracy_train=0.787118, accuracy_test=0.764699\n"
     ]
    }
   ],
   "source": [
    "auc_test = roc_auc_score(y_test,y_pred_test)\n",
    "accuracy_test = accuracy_score(y_test,y_pred_test>0.5)\n",
    "auc_train = roc_auc_score(y_train,y_pred_train)\n",
    "accuracy_train = accuracy_score(y_train,y_pred_train>0.5)\n",
    "\n",
    "print(\"auc_train=%g, auc_test=%g, accuracy_train=%g, accuracy_test=%g\" % (auc_train, auc_test, accuracy_train, accuracy_test))"
   ]
  },
  {
   "cell_type": "code",
   "execution_count": 18,
   "metadata": {},
   "outputs": [
    {
     "data": {
      "text/plain": [
       "Text(0.5,1,'ROC for testing data')"
      ]
     },
     "execution_count": 18,
     "metadata": {},
     "output_type": "execute_result"
    },
    {
     "data": {
      "image/png": "[encoded data removed]",
      "text/plain": [
       "<Figure size 720x360 with 2 Axes>"
      ]
     },
     "metadata": {},
     "output_type": "display_data"
    }
   ],
   "source": [
    "fpr_train, tpr_train, thresholds_train = roc_curve(y_train,y_pred_train)\n",
    "fpr_test, tpr_test, thresholds_test = roc_curve(y_test,y_pred_test)\n",
    "plt.figure(figsize=(10,5))\n",
    "plt.subplot(1,2,1)\n",
    "plt.plot(fpr_train,tpr_train, color=\"blue\", label=\"train roc, auc=%g\" % (auc_train,))\n",
    "plt.legend()\n",
    "plt.title(\"ROC for training data\")\n",
    "plt.subplot(1,2,2)\n",
    "plt.plot(fpr_test,tpr_test, color=\"green\", label=\"test roc, auc=%g\" % (auc_test,))\n",
    "plt.legend()\n",
    "plt.title(\"ROC for testing data\")"
   ]
  },
  {
   "cell_type": "code",
   "execution_count": 19,
   "metadata": {},
   "outputs": [
    {
     "name": "stdout",
     "output_type": "stream",
     "text": [
      "__________________________________________________________________________________________________\n",
      "Layer (type)                    Output Shape         Param #     Connected to                     \n",
      "==================================================================================================\n",
      "question_1 (InputLayer)         (None, 50)           0                                            \n",
      "__________________________________________________________________________________________________\n",
      "question_2 (InputLayer)         (None, 50)           0                                            \n",
      "__________________________________________________________________________________________________\n",
      "word2vec (Embedding)            (None, 50, 100)      40000100    question_1[0][0]                 \n",
      "                                                                 question_2[0][0]                 \n",
      "__________________________________________________________________________________________________\n",
      "get_word_weight (Embedding)     (None, 50, 1)        400001      question_1[0][0]                 \n",
      "                                                                 question_2[0][0]                 \n",
      "__________________________________________________________________________________________________\n",
      "multiply_1 (Multiply)           (None, 50, 100)      0           word2vec[0][0]                   \n",
      "                                                                 get_word_weight[0][0]            \n",
      "__________________________________________________________________________________________________\n",
      "multiply_2 (Multiply)           (None, 50, 100)      0           word2vec[1][0]                   \n",
      "                                                                 get_word_weight[1][0]            \n",
      "__________________________________________________________________________________________________\n",
      "lstm_1 (LSTM)                   (None, 50, 100)      80400       multiply_1[0][0]                 \n",
      "                                                                 multiply_2[0][0]                 \n",
      "__________________________________________________________________________________________________\n",
      "lstm_2 (LSTM)                   (None, 100)          80400       lstm_1[0][0]                     \n",
      "                                                                 lstm_1[1][0]                     \n",
      "__________________________________________________________________________________________________\n",
      "merge (Concatenate)             (None, 200)          0           lstm_2[0][0]                     \n",
      "                                                                 lstm_2[1][0]                     \n",
      "__________________________________________________________________________________________________\n",
      "sigmoid (Dense)                 (None, 1)            201         merge[0][0]                      \n",
      "==================================================================================================\n",
      "Total params: 40,561,102\n",
      "Trainable params: 161,001\n",
      "Non-trainable params: 40,400,101\n",
      "__________________________________________________________________________________________________\n"
     ]
    }
   ],
   "source": [
    "model.summary()"
   ]
  },
  {
   "cell_type": "code",
   "execution_count": null,
   "metadata": {},
   "outputs": [],
   "source": []
  },
  {
   "cell_type": "code",
   "execution_count": 20,
   "metadata": {},
   "outputs": [
    {
     "data": {
      "image/png": "[encoded data removed]",
      "text/plain": [
       "<IPython.core.display.Image object>"
      ]
     },
     "execution_count": 20,
     "metadata": {},
     "output_type": "execute_result"
    }
   ],
   "source": [
    "plot_model(model,to_file=\"model.png\")\n",
    "from IPython.display import Image\n",
    "Image(filename='model.png') "
   ]
  },
  {
   "cell_type": "code",
   "execution_count": null,
   "metadata": {},
   "outputs": [],
   "source": []
  }
 ],
 "metadata": {
  "kernelspec": {
   "display_name": "Python 3",
   "language": "python",
   "name": "python3"
  },
  "language_info": {
   "codemirror_mode": {
    "name": "ipython",
    "version": 3
   },
   "file_extension": ".py",
   "mimetype": "text/x-python",
   "name": "python",
   "nbconvert_exporter": "python",
   "pygments_lexer": "ipython3",
   "version": "3.6.5"
  }
 },
 "nbformat": 4,
 "nbformat_minor": 2
}
