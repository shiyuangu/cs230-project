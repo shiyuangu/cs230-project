{
 "cells": [
  {
   "cell_type": "code",
   "execution_count": 10,
   "metadata": {},
   "outputs": [],
   "source": [
    "import string\n",
    "import numpy as np \n",
    "import pandas as pd\n",
    "import matplotlib.pyplot as plt\n",
    "import seaborn as sns\n",
    "%matplotlib inline\n",
    "pal = sns.color_palette()"
   ]
  },
  {
   "cell_type": "code",
   "execution_count": 2,
   "metadata": {},
   "outputs": [
    {
     "name": "stdout",
     "output_type": "stream",
     "text": [
      "\u001b[0m\u001b[01;32mall.zip\u001b[0m*       \u001b[01;32mkernel.ipynb\u001b[0m*          test.csv        train_pp.pkl\r\n",
      "doc2vec.ipynb  orig_data_split.ipynb  test_pp.pkl     word2vec.ipynb\r\n",
      "eda.ipynb      process_text.ipynb     train.csv\r\n",
      "\u001b[01;34mglove.6B\u001b[0m/      sample_submission.csv  train_orig.csv\r\n"
     ]
    }
   ],
   "source": [
    "%ls"
   ]
  },
  {
   "cell_type": "code",
   "execution_count": 5,
   "metadata": {},
   "outputs": [
    {
     "data": {
      "text/plain": [
       "(404290, 6)"
      ]
     },
     "execution_count": 5,
     "metadata": {},
     "output_type": "execute_result"
    }
   ],
   "source": [
    "df = pd.read_csv(\"train_orig.csv\")\n",
    "df.shape"
   ]
  },
  {
   "cell_type": "code",
   "execution_count": 6,
   "metadata": {},
   "outputs": [
    {
     "data": {
      "text/html": [
       "<div>\n",
       "<style scoped>\n",
       "    .dataframe tbody tr th:only-of-type {\n",
       "        vertical-align: middle;\n",
       "    }\n",
       "\n",
       "    .dataframe tbody tr th {\n",
       "        vertical-align: top;\n",
       "    }\n",
       "\n",
       "    .dataframe thead th {\n",
       "        text-align: right;\n",
       "    }\n",
       "</style>\n",
       "<table border=\"1\" class=\"dataframe\">\n",
       "  <thead>\n",
       "    <tr style=\"text-align: right;\">\n",
       "      <th></th>\n",
       "      <th>id</th>\n",
       "      <th>qid1</th>\n",
       "      <th>qid2</th>\n",
       "      <th>question1</th>\n",
       "      <th>question2</th>\n",
       "      <th>is_duplicate</th>\n",
       "    </tr>\n",
       "  </thead>\n",
       "  <tbody>\n",
       "    <tr>\n",
       "      <th>214441</th>\n",
       "      <td>214441</td>\n",
       "      <td>320022</td>\n",
       "      <td>320023</td>\n",
       "      <td>Who's the most known person in the world?</td>\n",
       "      <td>Who is the most known person in the world?</td>\n",
       "      <td>1</td>\n",
       "    </tr>\n",
       "    <tr>\n",
       "      <th>53196</th>\n",
       "      <td>53196</td>\n",
       "      <td>94075</td>\n",
       "      <td>94076</td>\n",
       "      <td>What is the reason of decreasing steam turbine...</td>\n",
       "      <td>What is avert decrease in steam turbine effici...</td>\n",
       "      <td>0</td>\n",
       "    </tr>\n",
       "    <tr>\n",
       "      <th>86164</th>\n",
       "      <td>86164</td>\n",
       "      <td>10693</td>\n",
       "      <td>4121</td>\n",
       "      <td>Why is Saltwater Taffy candy imported in Hong ...</td>\n",
       "      <td>Why is Saltwater taffy candy imported in Japan?</td>\n",
       "      <td>1</td>\n",
       "    </tr>\n",
       "    <tr>\n",
       "      <th>21616</th>\n",
       "      <td>21616</td>\n",
       "      <td>40679</td>\n",
       "      <td>40680</td>\n",
       "      <td>How has Mountain Dew changed its formula throu...</td>\n",
       "      <td>Does Pepsi have plans to bring Mountain Dew to...</td>\n",
       "      <td>0</td>\n",
       "    </tr>\n",
       "    <tr>\n",
       "      <th>238535</th>\n",
       "      <td>238535</td>\n",
       "      <td>349917</td>\n",
       "      <td>349918</td>\n",
       "      <td>What are some reliable solutions to manage the...</td>\n",
       "      <td>Indian legal service?</td>\n",
       "      <td>0</td>\n",
       "    </tr>\n",
       "    <tr>\n",
       "      <th>381457</th>\n",
       "      <td>381457</td>\n",
       "      <td>513195</td>\n",
       "      <td>513196</td>\n",
       "      <td>What’s better for research tasks in Big data -...</td>\n",
       "      <td>How can Rahul Gandhi Strategies his Party for ...</td>\n",
       "      <td>0</td>\n",
       "    </tr>\n",
       "    <tr>\n",
       "      <th>344395</th>\n",
       "      <td>344395</td>\n",
       "      <td>214669</td>\n",
       "      <td>108822</td>\n",
       "      <td>Why are Aeroplanes painted white?</td>\n",
       "      <td>Why are most airliners painted white?</td>\n",
       "      <td>1</td>\n",
       "    </tr>\n",
       "    <tr>\n",
       "      <th>363759</th>\n",
       "      <td>363759</td>\n",
       "      <td>4038</td>\n",
       "      <td>57</td>\n",
       "      <td>What are the best ways to earn money from home?</td>\n",
       "      <td>What is best way to make money online?</td>\n",
       "      <td>1</td>\n",
       "    </tr>\n",
       "    <tr>\n",
       "      <th>91748</th>\n",
       "      <td>91748</td>\n",
       "      <td>153691</td>\n",
       "      <td>153692</td>\n",
       "      <td>What does sinial mean and how can you use it i...</td>\n",
       "      <td>What does \"animadversion\" mean and how do you ...</td>\n",
       "      <td>0</td>\n",
       "    </tr>\n",
       "    <tr>\n",
       "      <th>191157</th>\n",
       "      <td>191157</td>\n",
       "      <td>290423</td>\n",
       "      <td>290424</td>\n",
       "      <td>What is the best place to get a beard trim in ...</td>\n",
       "      <td>Where is the best place to get a Chai Latte in...</td>\n",
       "      <td>0</td>\n",
       "    </tr>\n",
       "  </tbody>\n",
       "</table>\n",
       "</div>"
      ],
      "text/plain": [
       "            id    qid1    qid2  \\\n",
       "214441  214441  320022  320023   \n",
       "53196    53196   94075   94076   \n",
       "86164    86164   10693    4121   \n",
       "21616    21616   40679   40680   \n",
       "238535  238535  349917  349918   \n",
       "381457  381457  513195  513196   \n",
       "344395  344395  214669  108822   \n",
       "363759  363759    4038      57   \n",
       "91748    91748  153691  153692   \n",
       "191157  191157  290423  290424   \n",
       "\n",
       "                                                question1  \\\n",
       "214441          Who's the most known person in the world?   \n",
       "53196   What is the reason of decreasing steam turbine...   \n",
       "86164   Why is Saltwater Taffy candy imported in Hong ...   \n",
       "21616   How has Mountain Dew changed its formula throu...   \n",
       "238535  What are some reliable solutions to manage the...   \n",
       "381457  What’s better for research tasks in Big data -...   \n",
       "344395                  Why are Aeroplanes painted white?   \n",
       "363759    What are the best ways to earn money from home?   \n",
       "91748   What does sinial mean and how can you use it i...   \n",
       "191157  What is the best place to get a beard trim in ...   \n",
       "\n",
       "                                                question2  is_duplicate  \n",
       "214441         Who is the most known person in the world?             1  \n",
       "53196   What is avert decrease in steam turbine effici...             0  \n",
       "86164     Why is Saltwater taffy candy imported in Japan?             1  \n",
       "21616   Does Pepsi have plans to bring Mountain Dew to...             0  \n",
       "238535                              Indian legal service?             0  \n",
       "381457  How can Rahul Gandhi Strategies his Party for ...             0  \n",
       "344395              Why are most airliners painted white?             1  \n",
       "363759             What is best way to make money online?             1  \n",
       "91748   What does \"animadversion\" mean and how do you ...             0  \n",
       "191157  Where is the best place to get a Chai Latte in...             0  "
      ]
     },
     "execution_count": 6,
     "metadata": {},
     "output_type": "execute_result"
    }
   ],
   "source": [
    "df.sample(10)"
   ]
  },
  {
   "cell_type": "code",
   "execution_count": 8,
   "metadata": {},
   "outputs": [
    {
     "data": {
      "text/plain": [
       "(290654, 299364, 537933)"
      ]
     },
     "execution_count": 8,
     "metadata": {},
     "output_type": "execute_result"
    }
   ],
   "source": [
    "s1 = set(df['qid1'])\n",
    "s2 = set(df['qid2']) \n",
    "len(s1), len(s2), len(s1.union(s2)) "
   ]
  },
  {
   "cell_type": "code",
   "execution_count": 9,
   "metadata": {},
   "outputs": [
    {
     "data": {
      "text/plain": [
       "0    255027\n",
       "1    149263\n",
       "Name: is_duplicate, dtype: int64"
      ]
     },
     "execution_count": 9,
     "metadata": {},
     "output_type": "execute_result"
    }
   ],
   "source": [
    "df.is_duplicate.value_counts()"
   ]
  },
  {
   "cell_type": "code",
   "execution_count": 11,
   "metadata": {},
   "outputs": [
    {
     "data": {
      "text/plain": [
       "'!\"#$%&\\'()*+,-./:;<=>?@[\\\\]^_`{|}~'"
      ]
     },
     "execution_count": 11,
     "metadata": {},
     "output_type": "execute_result"
    }
   ],
   "source": [
    "string.punctuation"
   ]
  },
  {
   "cell_type": "code",
   "execution_count": null,
   "metadata": {},
   "outputs": [],
   "source": []
  }
 ],
 "metadata": {
  "kernelspec": {
   "display_name": "Python 3",
   "language": "python",
   "name": "python3"
  },
  "language_info": {
   "codemirror_mode": {
    "name": "ipython",
    "version": 3
   },
   "file_extension": ".py",
   "mimetype": "text/x-python",
   "name": "python",
   "nbconvert_exporter": "python",
   "pygments_lexer": "ipython3",
   "version": "3.6.6"
  }
 },
 "nbformat": 4,
 "nbformat_minor": 2
}
