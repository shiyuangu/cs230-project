{
 "cells": [
  {
   "cell_type": "code",
   "execution_count": 74,
   "metadata": {},
   "outputs": [],
   "source": [
    "import string\n",
    "import numpy as np \n",
    "import pandas as pd\n",
    "import gensim.downloader as api\n",
    "import nltk\n",
    "from scipy.spatial.distance import cosine\n",
    "from sklearn.metrics import roc_auc_score"
   ]
  },
  {
   "cell_type": "code",
   "execution_count": 5,
   "metadata": {},
   "outputs": [],
   "source": [
    "df_train = pd.read_pickle(\"train_pp.pkl\")\n",
    "df_test = pd.read_pickle(\"test_pp.pkl\")"
   ]
  },
  {
   "cell_type": "code",
   "execution_count": 6,
   "metadata": {},
   "outputs": [
    {
     "data": {
      "text/html": [
       "<div>\n",
       "<style scoped>\n",
       "    .dataframe tbody tr th:only-of-type {\n",
       "        vertical-align: middle;\n",
       "    }\n",
       "\n",
       "    .dataframe tbody tr th {\n",
       "        vertical-align: top;\n",
       "    }\n",
       "\n",
       "    .dataframe thead th {\n",
       "        text-align: right;\n",
       "    }\n",
       "</style>\n",
       "<table border=\"1\" class=\"dataframe\">\n",
       "  <thead>\n",
       "    <tr style=\"text-align: right;\">\n",
       "      <th></th>\n",
       "      <th>id</th>\n",
       "      <th>qid1</th>\n",
       "      <th>qid2</th>\n",
       "      <th>question1</th>\n",
       "      <th>question2</th>\n",
       "      <th>is_duplicate</th>\n",
       "      <th>words_1</th>\n",
       "      <th>words_2</th>\n",
       "      <th>end_punc_1</th>\n",
       "      <th>end_punc_2</th>\n",
       "      <th>is_same_end_punc</th>\n",
       "    </tr>\n",
       "  </thead>\n",
       "  <tbody>\n",
       "    <tr>\n",
       "      <th>145367</th>\n",
       "      <td>145367</td>\n",
       "      <td>229850</td>\n",
       "      <td>229851</td>\n",
       "      <td>Is there only one consciousness?</td>\n",
       "      <td>Is consciousness one for everyone?</td>\n",
       "      <td>1</td>\n",
       "      <td>[is, there, only, one, consciousness, ?]</td>\n",
       "      <td>[is, consciousness, one, for, everyone, ?]</td>\n",
       "      <td>?</td>\n",
       "      <td>?</td>\n",
       "      <td>True</td>\n",
       "    </tr>\n",
       "    <tr>\n",
       "      <th>123169</th>\n",
       "      <td>123169</td>\n",
       "      <td>98309</td>\n",
       "      <td>199206</td>\n",
       "      <td>Which is a suitable solar panel installation p...</td>\n",
       "      <td>Which is a suitable solar panel installation p...</td>\n",
       "      <td>0</td>\n",
       "      <td>[which, is, a, suitable, solar, panel, install...</td>\n",
       "      <td>[which, is, a, suitable, solar, panel, install...</td>\n",
       "      <td>?</td>\n",
       "      <td>?</td>\n",
       "      <td>True</td>\n",
       "    </tr>\n",
       "    <tr>\n",
       "      <th>57880</th>\n",
       "      <td>57880</td>\n",
       "      <td>101653</td>\n",
       "      <td>101654</td>\n",
       "      <td>Is there any idea for a new and useful mini pr...</td>\n",
       "      <td>Are there any new topics in computer science t...</td>\n",
       "      <td>0</td>\n",
       "      <td>[is, there, any, idea, for, a, new, and, usefu...</td>\n",
       "      <td>[are, there, any, new, topic, in, computer, sc...</td>\n",
       "      <td>?</td>\n",
       "      <td>?</td>\n",
       "      <td>True</td>\n",
       "    </tr>\n",
       "    <tr>\n",
       "      <th>213043</th>\n",
       "      <td>213043</td>\n",
       "      <td>318261</td>\n",
       "      <td>318262</td>\n",
       "      <td>What does it mean if a girl cries after hurtin...</td>\n",
       "      <td>What does it mean if a girl cries without any ...</td>\n",
       "      <td>0</td>\n",
       "      <td>[what, doe, it, mean, if, a, girl, cry, after,...</td>\n",
       "      <td>[what, doe, it, mean, if, a, girl, cry, withou...</td>\n",
       "      <td>?</td>\n",
       "      <td>?</td>\n",
       "      <td>True</td>\n",
       "    </tr>\n",
       "    <tr>\n",
       "      <th>204901</th>\n",
       "      <td>204901</td>\n",
       "      <td>307914</td>\n",
       "      <td>307915</td>\n",
       "      <td>What are some wholesale drop shippers that hav...</td>\n",
       "      <td>What portrait lenses are compatible with the C...</td>\n",
       "      <td>0</td>\n",
       "      <td>[what, are, some, wholesale, drop, shipper, th...</td>\n",
       "      <td>[what, portrait, lens, are, compatible, with, ...</td>\n",
       "      <td>?</td>\n",
       "      <td>?</td>\n",
       "      <td>True</td>\n",
       "    </tr>\n",
       "  </tbody>\n",
       "</table>\n",
       "</div>"
      ],
      "text/plain": [
       "            id    qid1    qid2  \\\n",
       "145367  145367  229850  229851   \n",
       "123169  123169   98309  199206   \n",
       "57880    57880  101653  101654   \n",
       "213043  213043  318261  318262   \n",
       "204901  204901  307914  307915   \n",
       "\n",
       "                                                question1  \\\n",
       "145367                   Is there only one consciousness?   \n",
       "123169  Which is a suitable solar panel installation p...   \n",
       "57880   Is there any idea for a new and useful mini pr...   \n",
       "213043  What does it mean if a girl cries after hurtin...   \n",
       "204901  What are some wholesale drop shippers that hav...   \n",
       "\n",
       "                                                question2  is_duplicate  \\\n",
       "145367                 Is consciousness one for everyone?             1   \n",
       "123169  Which is a suitable solar panel installation p...             0   \n",
       "57880   Are there any new topics in computer science t...             0   \n",
       "213043  What does it mean if a girl cries without any ...             0   \n",
       "204901  What portrait lenses are compatible with the C...             0   \n",
       "\n",
       "                                                  words_1  \\\n",
       "145367           [is, there, only, one, consciousness, ?]   \n",
       "123169  [which, is, a, suitable, solar, panel, install...   \n",
       "57880   [is, there, any, idea, for, a, new, and, usefu...   \n",
       "213043  [what, doe, it, mean, if, a, girl, cry, after,...   \n",
       "204901  [what, are, some, wholesale, drop, shipper, th...   \n",
       "\n",
       "                                                  words_2 end_punc_1  \\\n",
       "145367         [is, consciousness, one, for, everyone, ?]          ?   \n",
       "123169  [which, is, a, suitable, solar, panel, install...          ?   \n",
       "57880   [are, there, any, new, topic, in, computer, sc...          ?   \n",
       "213043  [what, doe, it, mean, if, a, girl, cry, withou...          ?   \n",
       "204901  [what, portrait, lens, are, compatible, with, ...          ?   \n",
       "\n",
       "       end_punc_2  is_same_end_punc  \n",
       "145367          ?              True  \n",
       "123169          ?              True  \n",
       "57880           ?              True  \n",
       "213043          ?              True  \n",
       "204901          ?              True  "
      ]
     },
     "execution_count": 6,
     "metadata": {},
     "output_type": "execute_result"
    }
   ],
   "source": [
    "df_train.head()"
   ]
  },
  {
   "cell_type": "code",
   "execution_count": 2,
   "metadata": {},
   "outputs": [],
   "source": [
    "#use pre-trained:'Wikipedia 2014 + Gigaword 5 (6B tokens, uncased)'\n",
    "#vocab: 400K\n",
    "# api.info(\"glove-wiki-gigaword-100\")\n",
    "word_vectors = api.load(\"glove-wiki-gigaword-100\")"
   ]
  },
  {
   "cell_type": "code",
   "execution_count": 89,
   "metadata": {},
   "outputs": [],
   "source": [
    "stop_words = set(nltk.corpus.stopwords.words(\"english\")) #179 words in total \n",
    "#adding back some words which is crucial for this application\n",
    "#stop_words = stop_words.difference({\"what\",\"when\",\"where\",\"which\",\"who\",\"whom\",\"how\"})\n"
   ]
  },
  {
   "cell_type": "code",
   "execution_count": 90,
   "metadata": {},
   "outputs": [
    {
     "data": {
      "text/plain": [
       "179"
      ]
     },
     "execution_count": 90,
     "metadata": {},
     "output_type": "execute_result"
    }
   ],
   "source": [
    "len(stop_words)"
   ]
  },
  {
   "cell_type": "code",
   "execution_count": 61,
   "metadata": {},
   "outputs": [],
   "source": [
    "def doc2vec(words):\n",
    "    \"\"\"\n",
    "    simply adding word_vec for all words and compute means \n",
    "    all words should be in lower case; string.punctuations are skipped \n",
    "    words not in the word_vectors are skipped; \n",
    "    stop words are skipped \n",
    "    @param words: List[str]: a list of words\n",
    "    return: \n",
    "    \"\"\"\n",
    "    sum_vec = np.zeros((word_vectors.vector_size,))\n",
    "    cnt = 0 \n",
    "    for w in words: \n",
    "        if not w in string.punctuation and not w in stop_words and w in word_vectors: \n",
    "            sum_vec = sum_vec + word_vectors[w]\n",
    "            cnt += 1\n",
    "    return sum_vec/cnt if cnt > 0 else sum_vec"
   ]
  },
  {
   "cell_type": "code",
   "execution_count": 62,
   "metadata": {},
   "outputs": [],
   "source": [
    "def compute_distance(wv1,wv2): \n",
    "    \"\"\"\n",
    "    cosine distance\n",
    "    @param wv1: word_vector\n",
    "    @param wv2: word_vector\n",
    "    return: float \n",
    "    \"\"\"\n",
    "    n_v1 = np.linalg.norm(wv1)\n",
    "    n_v2 = np.linalg.norm(wv2)\n",
    "    if n_v1 == 0.0 or n_v2 == 0.0: \n",
    "        return 0.0 if n_v1 == n_v2 else 2.0\n",
    "    return cosine(wv1,wv2)    "
   ]
  },
  {
   "cell_type": "code",
   "execution_count": 72,
   "metadata": {},
   "outputs": [],
   "source": [
    "f_qdist = lambda q1,q2: compute_distance(doc2vec(q1),doc2vec(q2)) \n",
    "df_train['qdist'] = df_train.apply(lambda row: f_qdist(row['words_1'],row['words_2']),axis=1)\n",
    "df_test['qdist'] = df_test.apply(lambda row: f_qdist(row['words_1'],row['words_2']),axis=1)"
   ]
  },
  {
   "cell_type": "code",
   "execution_count": 81,
   "metadata": {},
   "outputs": [
    {
     "data": {
      "text/plain": [
       "array([0.        , 0.        , 0.02038709, 0.0555436 , 0.11114994,\n",
       "       0.20384298, 0.35349581, 0.47633876, 2.        ])"
      ]
     },
     "execution_count": 81,
     "metadata": {},
     "output_type": "execute_result"
    }
   ],
   "source": [
    "np.percentile(df_train['qdist'],[0,5,10,25,50,75,90,95,100])"
   ]
  },
  {
   "cell_type": "code",
   "execution_count": 82,
   "metadata": {},
   "outputs": [
    {
     "data": {
      "text/html": [
       "<div>\n",
       "<style scoped>\n",
       "    .dataframe tbody tr th:only-of-type {\n",
       "        vertical-align: middle;\n",
       "    }\n",
       "\n",
       "    .dataframe tbody tr th {\n",
       "        vertical-align: top;\n",
       "    }\n",
       "\n",
       "    .dataframe thead th {\n",
       "        text-align: right;\n",
       "    }\n",
       "</style>\n",
       "<table border=\"1\" class=\"dataframe\">\n",
       "  <thead>\n",
       "    <tr style=\"text-align: right;\">\n",
       "      <th></th>\n",
       "      <th>id</th>\n",
       "      <th>qid1</th>\n",
       "      <th>qid2</th>\n",
       "      <th>question1</th>\n",
       "      <th>question2</th>\n",
       "      <th>is_duplicate</th>\n",
       "      <th>words_1</th>\n",
       "      <th>words_2</th>\n",
       "      <th>end_punc_1</th>\n",
       "      <th>end_punc_2</th>\n",
       "      <th>is_same_end_punc</th>\n",
       "      <th>qdist</th>\n",
       "    </tr>\n",
       "  </thead>\n",
       "  <tbody>\n",
       "    <tr>\n",
       "      <th>337973</th>\n",
       "      <td>337973</td>\n",
       "      <td>434644</td>\n",
       "      <td>349667</td>\n",
       "      <td>How can I introspect myself?</td>\n",
       "      <td>How do I introspect myself?</td>\n",
       "      <td>1</td>\n",
       "      <td>[how, can, i, introspect, myself, ?]</td>\n",
       "      <td>[how, do, i, introspect, myself, ?]</td>\n",
       "      <td>?</td>\n",
       "      <td>?</td>\n",
       "      <td>True</td>\n",
       "      <td>0.0</td>\n",
       "    </tr>\n",
       "    <tr>\n",
       "      <th>386138</th>\n",
       "      <td>386138</td>\n",
       "      <td>518304</td>\n",
       "      <td>518305</td>\n",
       "      <td>Why is there both Fannie Mae &amp; Freddie Mac?</td>\n",
       "      <td>What is Fannie Mae and Freddie Mac?</td>\n",
       "      <td>0</td>\n",
       "      <td>[why, is, there, both, fannie, mae, &amp;, freddie...</td>\n",
       "      <td>[what, is, fannie, mae, and, freddie, mac, ?]</td>\n",
       "      <td>?</td>\n",
       "      <td>?</td>\n",
       "      <td>True</td>\n",
       "      <td>0.0</td>\n",
       "    </tr>\n",
       "    <tr>\n",
       "      <th>64124</th>\n",
       "      <td>64124</td>\n",
       "      <td>111484</td>\n",
       "      <td>111485</td>\n",
       "      <td>I got denied by Google AdSense for 'insufficie...</td>\n",
       "      <td>I got denied by Google AdSense for 'insufficie...</td>\n",
       "      <td>0</td>\n",
       "      <td>[i, got, denied, by, google, adsense, for, 'in...</td>\n",
       "      <td>[i, got, denied, by, google, adsense, for, 'in...</td>\n",
       "      <td>?</td>\n",
       "      <td>?</td>\n",
       "      <td>True</td>\n",
       "      <td>0.0</td>\n",
       "    </tr>\n",
       "    <tr>\n",
       "      <th>54372</th>\n",
       "      <td>54372</td>\n",
       "      <td>95997</td>\n",
       "      <td>95998</td>\n",
       "      <td>HOW DOESI FUCK A LADY?</td>\n",
       "      <td>How will I fuck a lady?</td>\n",
       "      <td>1</td>\n",
       "      <td>[how, doesi, fuck, a, lady, ?]</td>\n",
       "      <td>[how, will, i, fuck, a, lady, ?]</td>\n",
       "      <td>?</td>\n",
       "      <td>?</td>\n",
       "      <td>True</td>\n",
       "      <td>0.0</td>\n",
       "    </tr>\n",
       "    <tr>\n",
       "      <th>233637</th>\n",
       "      <td>233637</td>\n",
       "      <td>343929</td>\n",
       "      <td>343930</td>\n",
       "      <td>How are airplanes made?</td>\n",
       "      <td>What are airplanes made out of?</td>\n",
       "      <td>0</td>\n",
       "      <td>[how, are, airplane, made, ?]</td>\n",
       "      <td>[what, are, airplane, made, out, of, ?]</td>\n",
       "      <td>?</td>\n",
       "      <td>?</td>\n",
       "      <td>True</td>\n",
       "      <td>0.0</td>\n",
       "    </tr>\n",
       "  </tbody>\n",
       "</table>\n",
       "</div>"
      ],
      "text/plain": [
       "            id    qid1    qid2  \\\n",
       "337973  337973  434644  349667   \n",
       "386138  386138  518304  518305   \n",
       "64124    64124  111484  111485   \n",
       "54372    54372   95997   95998   \n",
       "233637  233637  343929  343930   \n",
       "\n",
       "                                                question1  \\\n",
       "337973                       How can I introspect myself?   \n",
       "386138        Why is there both Fannie Mae & Freddie Mac?   \n",
       "64124   I got denied by Google AdSense for 'insufficie...   \n",
       "54372                              HOW DOESI FUCK A LADY?   \n",
       "233637                            How are airplanes made?   \n",
       "\n",
       "                                                question2  is_duplicate  \\\n",
       "337973                        How do I introspect myself?             1   \n",
       "386138                What is Fannie Mae and Freddie Mac?             0   \n",
       "64124   I got denied by Google AdSense for 'insufficie...             0   \n",
       "54372                             How will I fuck a lady?             1   \n",
       "233637                    What are airplanes made out of?             0   \n",
       "\n",
       "                                                  words_1  \\\n",
       "337973               [how, can, i, introspect, myself, ?]   \n",
       "386138  [why, is, there, both, fannie, mae, &, freddie...   \n",
       "64124   [i, got, denied, by, google, adsense, for, 'in...   \n",
       "54372                      [how, doesi, fuck, a, lady, ?]   \n",
       "233637                      [how, are, airplane, made, ?]   \n",
       "\n",
       "                                                  words_2 end_punc_1  \\\n",
       "337973                [how, do, i, introspect, myself, ?]          ?   \n",
       "386138      [what, is, fannie, mae, and, freddie, mac, ?]          ?   \n",
       "64124   [i, got, denied, by, google, adsense, for, 'in...          ?   \n",
       "54372                    [how, will, i, fuck, a, lady, ?]          ?   \n",
       "233637            [what, are, airplane, made, out, of, ?]          ?   \n",
       "\n",
       "       end_punc_2  is_same_end_punc  qdist  \n",
       "337973          ?              True    0.0  \n",
       "386138          ?              True    0.0  \n",
       "64124           ?              True    0.0  \n",
       "54372           ?              True    0.0  \n",
       "233637          ?              True    0.0  "
      ]
     },
     "execution_count": 82,
     "metadata": {},
     "output_type": "execute_result"
    }
   ],
   "source": [
    "#sanity check: what are the pair of zero qdist like? \n",
    "sel = df_train['qdist'] == 0.\n",
    "df_train[sel].head()"
   ]
  },
  {
   "cell_type": "code",
   "execution_count": 93,
   "metadata": {},
   "outputs": [
    {
     "data": {
      "text/plain": [
       "0.7143889199052074"
      ]
     },
     "execution_count": 93,
     "metadata": {},
     "output_type": "execute_result"
    }
   ],
   "source": [
    "roc_auc_score(1.0 - df_train['is_duplicate'], df_train['qdist'])"
   ]
  },
  {
   "cell_type": "code",
   "execution_count": 94,
   "metadata": {},
   "outputs": [
    {
     "data": {
      "text/plain": [
       "0.7139365281487993"
      ]
     },
     "execution_count": 94,
     "metadata": {},
     "output_type": "execute_result"
    }
   ],
   "source": [
    "roc_auc_score(1.0 - df_test['is_duplicate'], df_test['qdist'])"
   ]
  },
  {
   "cell_type": "raw",
   "metadata": {},
   "source": []
  }
 ],
 "metadata": {
  "kernelspec": {
   "display_name": "Python 3",
   "language": "python",
   "name": "python3"
  },
  "language_info": {
   "codemirror_mode": {
    "name": "ipython",
    "version": 3
   },
   "file_extension": ".py",
   "mimetype": "text/x-python",
   "name": "python",
   "nbconvert_exporter": "python",
   "pygments_lexer": "ipython3",
   "version": "3.6.6"
  }
 },
 "nbformat": 4,
 "nbformat_minor": 2
}
