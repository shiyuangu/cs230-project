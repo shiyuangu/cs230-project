{
 "cells": [
  {
   "cell_type": "code",
   "execution_count": 1,
   "metadata": {},
   "outputs": [],
   "source": [
    "import string\n",
    "from collections import defaultdict\n",
    "import numpy as np \n",
    "import pandas as pd\n",
    "import matplotlib.pyplot as plt\n",
    "import seaborn as sns\n",
    "import gensim.downloader as api\n",
    "import nltk\n",
    "from scipy.spatial.distance import cosine\n",
    "from sklearn.metrics import roc_auc_score, roc_curve,accuracy_score\n",
    "%matplotlib inline\n",
    "pal = sns.color_palette()"
   ]
  },
  {
   "cell_type": "code",
   "execution_count": 2,
   "metadata": {},
   "outputs": [],
   "source": [
    "word_vectors = api.load(\"glove-wiki-gigaword-100\")"
   ]
  },
  {
   "cell_type": "code",
   "execution_count": 3,
   "metadata": {},
   "outputs": [],
   "source": [
    "df_train = pd.read_pickle(\"train_pp.pkl\")\n",
    "df_test = pd.read_pickle(\"test_pp.pkl\")"
   ]
  },
  {
   "cell_type": "code",
   "execution_count": 4,
   "metadata": {},
   "outputs": [
    {
     "data": {
      "text/html": [
       "<div>\n",
       "<style scoped>\n",
       "    .dataframe tbody tr th:only-of-type {\n",
       "        vertical-align: middle;\n",
       "    }\n",
       "\n",
       "    .dataframe tbody tr th {\n",
       "        vertical-align: top;\n",
       "    }\n",
       "\n",
       "    .dataframe thead th {\n",
       "        text-align: right;\n",
       "    }\n",
       "</style>\n",
       "<table border=\"1\" class=\"dataframe\">\n",
       "  <thead>\n",
       "    <tr style=\"text-align: right;\">\n",
       "      <th></th>\n",
       "      <th>id</th>\n",
       "      <th>qid1</th>\n",
       "      <th>qid2</th>\n",
       "      <th>question1</th>\n",
       "      <th>question2</th>\n",
       "      <th>is_duplicate</th>\n",
       "      <th>words_1</th>\n",
       "      <th>words_2</th>\n",
       "      <th>end_punc_1</th>\n",
       "      <th>end_punc_2</th>\n",
       "      <th>is_same_end_punc</th>\n",
       "    </tr>\n",
       "  </thead>\n",
       "  <tbody>\n",
       "    <tr>\n",
       "      <th>145367</th>\n",
       "      <td>145367</td>\n",
       "      <td>229850</td>\n",
       "      <td>229851</td>\n",
       "      <td>Is there only one consciousness?</td>\n",
       "      <td>Is consciousness one for everyone?</td>\n",
       "      <td>1</td>\n",
       "      <td>[is, there, only, one, consciousness, ?]</td>\n",
       "      <td>[is, consciousness, one, for, everyone, ?]</td>\n",
       "      <td>?</td>\n",
       "      <td>?</td>\n",
       "      <td>True</td>\n",
       "    </tr>\n",
       "    <tr>\n",
       "      <th>123169</th>\n",
       "      <td>123169</td>\n",
       "      <td>98309</td>\n",
       "      <td>199206</td>\n",
       "      <td>Which is a suitable solar panel installation p...</td>\n",
       "      <td>Which is a suitable solar panel installation p...</td>\n",
       "      <td>0</td>\n",
       "      <td>[which, is, a, suitable, solar, panel, install...</td>\n",
       "      <td>[which, is, a, suitable, solar, panel, install...</td>\n",
       "      <td>?</td>\n",
       "      <td>?</td>\n",
       "      <td>True</td>\n",
       "    </tr>\n",
       "    <tr>\n",
       "      <th>57880</th>\n",
       "      <td>57880</td>\n",
       "      <td>101653</td>\n",
       "      <td>101654</td>\n",
       "      <td>Is there any idea for a new and useful mini pr...</td>\n",
       "      <td>Are there any new topics in computer science t...</td>\n",
       "      <td>0</td>\n",
       "      <td>[is, there, any, idea, for, a, new, and, usefu...</td>\n",
       "      <td>[are, there, any, new, topic, in, computer, sc...</td>\n",
       "      <td>?</td>\n",
       "      <td>?</td>\n",
       "      <td>True</td>\n",
       "    </tr>\n",
       "    <tr>\n",
       "      <th>213043</th>\n",
       "      <td>213043</td>\n",
       "      <td>318261</td>\n",
       "      <td>318262</td>\n",
       "      <td>What does it mean if a girl cries after hurtin...</td>\n",
       "      <td>What does it mean if a girl cries without any ...</td>\n",
       "      <td>0</td>\n",
       "      <td>[what, doe, it, mean, if, a, girl, cry, after,...</td>\n",
       "      <td>[what, doe, it, mean, if, a, girl, cry, withou...</td>\n",
       "      <td>?</td>\n",
       "      <td>?</td>\n",
       "      <td>True</td>\n",
       "    </tr>\n",
       "    <tr>\n",
       "      <th>204901</th>\n",
       "      <td>204901</td>\n",
       "      <td>307914</td>\n",
       "      <td>307915</td>\n",
       "      <td>What are some wholesale drop shippers that hav...</td>\n",
       "      <td>What portrait lenses are compatible with the C...</td>\n",
       "      <td>0</td>\n",
       "      <td>[what, are, some, wholesale, drop, shipper, th...</td>\n",
       "      <td>[what, portrait, lens, are, compatible, with, ...</td>\n",
       "      <td>?</td>\n",
       "      <td>?</td>\n",
       "      <td>True</td>\n",
       "    </tr>\n",
       "  </tbody>\n",
       "</table>\n",
       "</div>"
      ],
      "text/plain": [
       "            id    qid1    qid2  \\\n",
       "145367  145367  229850  229851   \n",
       "123169  123169   98309  199206   \n",
       "57880    57880  101653  101654   \n",
       "213043  213043  318261  318262   \n",
       "204901  204901  307914  307915   \n",
       "\n",
       "                                                question1  \\\n",
       "145367                   Is there only one consciousness?   \n",
       "123169  Which is a suitable solar panel installation p...   \n",
       "57880   Is there any idea for a new and useful mini pr...   \n",
       "213043  What does it mean if a girl cries after hurtin...   \n",
       "204901  What are some wholesale drop shippers that hav...   \n",
       "\n",
       "                                                question2  is_duplicate  \\\n",
       "145367                 Is consciousness one for everyone?             1   \n",
       "123169  Which is a suitable solar panel installation p...             0   \n",
       "57880   Are there any new topics in computer science t...             0   \n",
       "213043  What does it mean if a girl cries without any ...             0   \n",
       "204901  What portrait lenses are compatible with the C...             0   \n",
       "\n",
       "                                                  words_1  \\\n",
       "145367           [is, there, only, one, consciousness, ?]   \n",
       "123169  [which, is, a, suitable, solar, panel, install...   \n",
       "57880   [is, there, any, idea, for, a, new, and, usefu...   \n",
       "213043  [what, doe, it, mean, if, a, girl, cry, after,...   \n",
       "204901  [what, are, some, wholesale, drop, shipper, th...   \n",
       "\n",
       "                                                  words_2 end_punc_1  \\\n",
       "145367         [is, consciousness, one, for, everyone, ?]          ?   \n",
       "123169  [which, is, a, suitable, solar, panel, install...          ?   \n",
       "57880   [are, there, any, new, topic, in, computer, sc...          ?   \n",
       "213043  [what, doe, it, mean, if, a, girl, cry, withou...          ?   \n",
       "204901  [what, portrait, lens, are, compatible, with, ...          ?   \n",
       "\n",
       "       end_punc_2  is_same_end_punc  \n",
       "145367          ?              True  \n",
       "123169          ?              True  \n",
       "57880           ?              True  \n",
       "213043          ?              True  \n",
       "204901          ?              True  "
      ]
     },
     "execution_count": 4,
     "metadata": {},
     "output_type": "execute_result"
    }
   ],
   "source": [
    "df_train.head()"
   ]
  },
  {
   "cell_type": "code",
   "execution_count": 5,
   "metadata": {},
   "outputs": [],
   "source": [
    "stop_words = set(nltk.corpus.stopwords.words(\"english\")) #179 words in total \n",
    "#adding back some words which is crucial for this application\n",
    "stop_words = stop_words.difference({\"what\",\"when\",\"where\",\"which\",\"who\",\"whom\",\"how\"})\n"
   ]
  },
  {
   "cell_type": "code",
   "execution_count": 6,
   "metadata": {},
   "outputs": [
    {
     "data": {
      "text/plain": [
       "172"
      ]
     },
     "execution_count": 6,
     "metadata": {},
     "output_type": "execute_result"
    }
   ],
   "source": [
    "len(stop_words)"
   ]
  },
  {
   "cell_type": "code",
   "execution_count": 7,
   "metadata": {},
   "outputs": [],
   "source": [
    "#CAUTION: a lot of questions are duplicated. Does it make sense to compute idf? will do it regardless here. \n",
    "idf_weights = defaultdict(int)\n",
    "def update_idf_weights(d,doc): \n",
    "    \"\"\"\n",
    "    @param d: defaultdict\n",
    "    @doc: List[str]\n",
    "    return: None\n",
    "    \"\"\"\n",
    "    for w in set(doc): \n",
    "        d[w] = d[w] + 1\n",
    "    return \n",
    "total_docs = 0 \n",
    "for _,row in df_train.iterrows():\n",
    "    update_idf_weights(idf_weights, row[\"words_1\"])\n",
    "    update_idf_weights(idf_weights, row[\"words_2\"])\n",
    "    if row[\"words_1\"]: total_docs += 1 #there are empty lists \n",
    "    if row[\"words_2\"]: total_docs += 1\n",
    "idf_weights = defaultdict(int,{k:np.log(total_docs/v) for k,v in idf_weights.items()})"
   ]
  },
  {
   "cell_type": "code",
   "execution_count": 8,
   "metadata": {},
   "outputs": [
    {
     "name": "stderr",
     "output_type": "stream",
     "text": [
      "/home/sgu/miniconda3/envs/dl/lib/python3.6/site-packages/matplotlib/axes/_axes.py:6510: MatplotlibDeprecationWarning: \n",
      "The 'normed' kwarg was deprecated in Matplotlib 2.1 and will be removed in 3.1. Use 'density' instead.\n",
      "  alternative=\"'density'\", removal=\"3.1\")\n"
     ]
    },
    {
     "data": {
      "text/plain": [
       "Text(0.5, 1.0, 'Distribution of IDF weights')"
      ]
     },
     "execution_count": 8,
     "metadata": {},
     "output_type": "execute_result"
    },
    {
     "data": {
      "image/png": "[encoded data removed]",
      "text/plain": [
       "<Figure size 504x360 with 1 Axes>"
      ]
     },
     "metadata": {
      "needs_background": "light"
     },
     "output_type": "display_data"
    }
   ],
   "source": [
    "#visualize the distribution of the idf_weights \n",
    "plt.figure(figsize=(7, 5))\n",
    "plt.hist(idf_weights.values(), bins=50, normed = True)\n",
    "plt.title(\"Distribution of IDF weights\")"
   ]
  },
  {
   "cell_type": "code",
   "execution_count": 9,
   "metadata": {},
   "outputs": [],
   "source": [
    "def doc2vec(words):\n",
    "    \"\"\"\n",
    "    simply adding word_vec for all words with tf-idf weights\n",
    "    all words should be in lower case; string.punctuations are skipped \n",
    "    words not in the word_vectors are skipped; \n",
    "    stop words are skipped \n",
    "    @param words: List[str]: a list of words\n",
    "    return: \n",
    "    \"\"\"\n",
    "    sum_vec = np.zeros((word_vectors.vector_size,))\n",
    "    sum_weights = 0. \n",
    "    for w in words: \n",
    "        if not w in string.punctuation and not w in stop_words and w in word_vectors:\n",
    "            wei = idf_weights[w]\n",
    "            sum_vec = sum_vec + wei * word_vectors[w]\n",
    "            sum_weights = sum_weights + wei\n",
    "    return sum_vec/sum_weights if sum_weights > 0 else sum_vec"
   ]
  },
  {
   "cell_type": "code",
   "execution_count": 10,
   "metadata": {},
   "outputs": [],
   "source": [
    "def compute_distance(wv1,wv2): \n",
    "    \"\"\"\n",
    "    cosine distance\n",
    "    @param wv1: word_vector\n",
    "    @param wv2: word_vector\n",
    "    return: float \n",
    "    \"\"\"\n",
    "    n_v1 = np.linalg.norm(wv1)\n",
    "    n_v2 = np.linalg.norm(wv2)\n",
    "    if n_v1 == 0.0 or n_v2 == 0.0: \n",
    "        return 0.0 if n_v1 == n_v2 else 2.0\n",
    "    return cosine(wv1,wv2)    "
   ]
  },
  {
   "cell_type": "code",
   "execution_count": 11,
   "metadata": {},
   "outputs": [],
   "source": [
    "f_qdist = lambda q1,q2: compute_distance(doc2vec(q1),doc2vec(q2)) \n",
    "df_train['qdist'] = df_train.apply(lambda row: f_qdist(row['words_1'],row['words_2']),axis=1)\n",
    "df_test['qdist'] = df_test.apply(lambda row: f_qdist(row['words_1'],row['words_2']),axis=1)"
   ]
  },
  {
   "cell_type": "code",
   "execution_count": 12,
   "metadata": {},
   "outputs": [
    {
     "data": {
      "text/plain": [
       "array([-2.22044605e-16,  8.66592380e-04,  1.93599873e-02,  5.60054966e-02,\n",
       "        1.18388114e-01,  2.23513499e-01,  3.90198567e-01,  5.23549370e-01,\n",
       "        2.00000000e+00])"
      ]
     },
     "execution_count": 12,
     "metadata": {},
     "output_type": "execute_result"
    }
   ],
   "source": [
    "np.percentile(df_train['qdist'],[0,5,10,25,50,75,90,95,100])"
   ]
  },
  {
   "cell_type": "code",
   "execution_count": 13,
   "metadata": {},
   "outputs": [
    {
     "data": {
      "text/plain": [
       "Text(0.5, 1.0, 'test: qdist for is_dup=1 vs is_dup=0')"
      ]
     },
     "execution_count": 13,
     "metadata": {},
     "output_type": "execute_result"
    },
    {
     "data": {
      "image/png": "[encoded data removed]",
      "text/plain": [
       "<Figure size 1080x720 with 2 Axes>"
      ]
     },
     "metadata": {
      "needs_background": "light"
     },
     "output_type": "display_data"
    }
   ],
   "source": [
    "plt.figure(figsize=(15, 10))\n",
    "plt.subplot(2,1,1)\n",
    "sel_dup = df_train.is_duplicate == 1\n",
    "plt.hist(df_train.loc[sel_dup,'qdist'], bins=50, range=[0, 2], color=pal[2], normed=True, label='is_dup=1')\n",
    "plt.hist(df_train.loc[~sel_dup,'qdist'], bins=50, range=[0, 2], color=pal[1], normed=True, alpha=0.5, label='is_dup=0')\n",
    "plt.legend()\n",
    "plt.title(\"train: qdist for is_dup=1 vs is_dup=0\")\n",
    "plt.subplot(2,1,2)\n",
    "sel_dup = df_test.is_duplicate == 1\n",
    "plt.hist(df_test.loc[sel_dup,'qdist'], bins=50, range=[0, 2], color=pal[2], normed=True, label='is_dup=1')\n",
    "plt.hist(df_test.loc[~sel_dup,'qdist'], bins=50, range=[0, 2], color=pal[1], normed=True, alpha=0.5, label='is_dup=0')\n",
    "plt.legend()\n",
    "plt.title(\"test: qdist for is_dup=1 vs is_dup=0\")\n"
   ]
  },
  {
   "cell_type": "code",
   "execution_count": 14,
   "metadata": {},
   "outputs": [
    {
     "data": {
      "text/html": [
       "<div>\n",
       "<style scoped>\n",
       "    .dataframe tbody tr th:only-of-type {\n",
       "        vertical-align: middle;\n",
       "    }\n",
       "\n",
       "    .dataframe tbody tr th {\n",
       "        vertical-align: top;\n",
       "    }\n",
       "\n",
       "    .dataframe thead th {\n",
       "        text-align: right;\n",
       "    }\n",
       "</style>\n",
       "<table border=\"1\" class=\"dataframe\">\n",
       "  <thead>\n",
       "    <tr style=\"text-align: right;\">\n",
       "      <th></th>\n",
       "      <th>id</th>\n",
       "      <th>qid1</th>\n",
       "      <th>qid2</th>\n",
       "      <th>question1</th>\n",
       "      <th>question2</th>\n",
       "      <th>is_duplicate</th>\n",
       "      <th>words_1</th>\n",
       "      <th>words_2</th>\n",
       "      <th>end_punc_1</th>\n",
       "      <th>end_punc_2</th>\n",
       "      <th>is_same_end_punc</th>\n",
       "      <th>qdist</th>\n",
       "    </tr>\n",
       "  </thead>\n",
       "  <tbody>\n",
       "    <tr>\n",
       "      <th>337973</th>\n",
       "      <td>337973</td>\n",
       "      <td>434644</td>\n",
       "      <td>349667</td>\n",
       "      <td>How can I introspect myself?</td>\n",
       "      <td>How do I introspect myself?</td>\n",
       "      <td>1</td>\n",
       "      <td>[how, can, i, introspect, myself, ?]</td>\n",
       "      <td>[how, do, i, introspect, myself, ?]</td>\n",
       "      <td>?</td>\n",
       "      <td>?</td>\n",
       "      <td>True</td>\n",
       "      <td>0.0</td>\n",
       "    </tr>\n",
       "    <tr>\n",
       "      <th>64124</th>\n",
       "      <td>64124</td>\n",
       "      <td>111484</td>\n",
       "      <td>111485</td>\n",
       "      <td>I got denied by Google AdSense for 'insufficie...</td>\n",
       "      <td>I got denied by Google AdSense for 'insufficie...</td>\n",
       "      <td>0</td>\n",
       "      <td>[i, got, denied, by, google, adsense, for, 'in...</td>\n",
       "      <td>[i, got, denied, by, google, adsense, for, 'in...</td>\n",
       "      <td>?</td>\n",
       "      <td>?</td>\n",
       "      <td>True</td>\n",
       "      <td>0.0</td>\n",
       "    </tr>\n",
       "    <tr>\n",
       "      <th>54372</th>\n",
       "      <td>54372</td>\n",
       "      <td>95997</td>\n",
       "      <td>95998</td>\n",
       "      <td>HOW DOESI FUCK A LADY?</td>\n",
       "      <td>How will I fuck a lady?</td>\n",
       "      <td>1</td>\n",
       "      <td>[how, doesi, fuck, a, lady, ?]</td>\n",
       "      <td>[how, will, i, fuck, a, lady, ?]</td>\n",
       "      <td>?</td>\n",
       "      <td>?</td>\n",
       "      <td>True</td>\n",
       "      <td>0.0</td>\n",
       "    </tr>\n",
       "    <tr>\n",
       "      <th>87674</th>\n",
       "      <td>87674</td>\n",
       "      <td>147618</td>\n",
       "      <td>147619</td>\n",
       "      <td>What is the difference between electrical devi...</td>\n",
       "      <td>What is the difference between electronic devi...</td>\n",
       "      <td>1</td>\n",
       "      <td>[what, is, the, difference, between, electrica...</td>\n",
       "      <td>[what, is, the, difference, between, electroni...</td>\n",
       "      <td>?</td>\n",
       "      <td>?</td>\n",
       "      <td>True</td>\n",
       "      <td>0.0</td>\n",
       "    </tr>\n",
       "    <tr>\n",
       "      <th>150867</th>\n",
       "      <td>150867</td>\n",
       "      <td>107471</td>\n",
       "      <td>237335</td>\n",
       "      <td>How do I become more creative?</td>\n",
       "      <td>How you become more creative?</td>\n",
       "      <td>1</td>\n",
       "      <td>[how, do, i, become, more, creative, ?]</td>\n",
       "      <td>[how, you, become, more, creative, ?]</td>\n",
       "      <td>?</td>\n",
       "      <td>?</td>\n",
       "      <td>True</td>\n",
       "      <td>0.0</td>\n",
       "    </tr>\n",
       "  </tbody>\n",
       "</table>\n",
       "</div>"
      ],
      "text/plain": [
       "            id    qid1    qid2  \\\n",
       "337973  337973  434644  349667   \n",
       "64124    64124  111484  111485   \n",
       "54372    54372   95997   95998   \n",
       "87674    87674  147618  147619   \n",
       "150867  150867  107471  237335   \n",
       "\n",
       "                                                question1  \\\n",
       "337973                       How can I introspect myself?   \n",
       "64124   I got denied by Google AdSense for 'insufficie...   \n",
       "54372                              HOW DOESI FUCK A LADY?   \n",
       "87674   What is the difference between electrical devi...   \n",
       "150867                     How do I become more creative?   \n",
       "\n",
       "                                                question2  is_duplicate  \\\n",
       "337973                        How do I introspect myself?             1   \n",
       "64124   I got denied by Google AdSense for 'insufficie...             0   \n",
       "54372                             How will I fuck a lady?             1   \n",
       "87674   What is the difference between electronic devi...             1   \n",
       "150867                      How you become more creative?             1   \n",
       "\n",
       "                                                  words_1  \\\n",
       "337973               [how, can, i, introspect, myself, ?]   \n",
       "64124   [i, got, denied, by, google, adsense, for, 'in...   \n",
       "54372                      [how, doesi, fuck, a, lady, ?]   \n",
       "87674   [what, is, the, difference, between, electrica...   \n",
       "150867            [how, do, i, become, more, creative, ?]   \n",
       "\n",
       "                                                  words_2 end_punc_1  \\\n",
       "337973                [how, do, i, introspect, myself, ?]          ?   \n",
       "64124   [i, got, denied, by, google, adsense, for, 'in...          ?   \n",
       "54372                    [how, will, i, fuck, a, lady, ?]          ?   \n",
       "87674   [what, is, the, difference, between, electroni...          ?   \n",
       "150867              [how, you, become, more, creative, ?]          ?   \n",
       "\n",
       "       end_punc_2  is_same_end_punc  qdist  \n",
       "337973          ?              True    0.0  \n",
       "64124           ?              True    0.0  \n",
       "54372           ?              True    0.0  \n",
       "87674           ?              True    0.0  \n",
       "150867          ?              True    0.0  "
      ]
     },
     "execution_count": 14,
     "metadata": {},
     "output_type": "execute_result"
    }
   ],
   "source": [
    "#sanity check: what are the pair of zero qdist like? \n",
    "sel = df_train['qdist'] == 0.\n",
    "df_train[sel].head()"
   ]
  },
  {
   "cell_type": "code",
   "execution_count": 15,
   "metadata": {},
   "outputs": [
    {
     "name": "stdout",
     "output_type": "stream",
     "text": [
      "train_auc:0.728747, test_auc: 0.726301\n"
     ]
    }
   ],
   "source": [
    "auc_train = roc_auc_score(1.0 - df_train['is_duplicate'], df_train['qdist'])\n",
    "auc_test = roc_auc_score(1.0 - df_test['is_duplicate'], df_test['qdist'])\n",
    "\n",
    "print(\"train_auc:%g, test_auc: %g\" % (auc_train,auc_test))"
   ]
  },
  {
   "cell_type": "code",
   "execution_count": 16,
   "metadata": {},
   "outputs": [
    {
     "data": {
      "text/plain": [
       "Text(0.5, 1.0, 'ROC for testing data')"
      ]
     },
     "execution_count": 16,
     "metadata": {},
     "output_type": "execute_result"
    },
    {
     "data": {
      "image/png": "[encoded data removed]",
      "text/plain": [
       "<Figure size 720x360 with 2 Axes>"
      ]
     },
     "metadata": {
      "needs_background": "light"
     },
     "output_type": "display_data"
    }
   ],
   "source": [
    "fpr_train, tpr_train, thresholds_train = roc_curve(1.0 - df_train['is_duplicate'], df_train['qdist'])\n",
    "fpr_test, tpr_test, thresholds_test = roc_curve(1.0 - df_test['is_duplicate'], df_test['qdist'])\n",
    "plt.figure(figsize=(10,5))\n",
    "plt.subplot(1,2,1)\n",
    "plt.plot(fpr_train,tpr_train, color=\"blue\", label=\"train roc, auc=%g\" % (auc_train,))\n",
    "plt.legend()\n",
    "plt.title(\"ROC for training data\")\n",
    "plt.subplot(1,2,2)\n",
    "plt.plot(fpr_test,tpr_test, color=\"green\", label=\"test roc, auc=%g\" % (auc_test,))\n",
    "plt.legend()\n",
    "plt.title(\"ROC for testing data\")"
   ]
  },
  {
   "cell_type": "code",
   "execution_count": 20,
   "metadata": {},
   "outputs": [],
   "source": [
    "#build a logistic regression model so that we can calculate probability and accurary \n",
    "from sklearn.linear_model import LogisticRegression\n",
    "X_train = df_train['qdist'].values[:,np.newaxis]\n",
    "X_test = df_test['qdist'].values[:,np.newaxis]\n",
    "y_train = df_train['is_duplicate'].values\n",
    "y_test = df_test['is_duplicate'].values\n",
    "model = LogisticRegression(random_state=0, solver='lbfgs').fit(X_train,Y_train)"
   ]
  },
  {
   "cell_type": "code",
   "execution_count": 24,
   "metadata": {},
   "outputs": [
    {
     "data": {
      "text/plain": [
       "(array([[-7.48387404]]), array([0.49466265]))"
      ]
     },
     "execution_count": 24,
     "metadata": {},
     "output_type": "execute_result"
    }
   ],
   "source": [
    "model.coef_,model.intercept_"
   ]
  },
  {
   "cell_type": "code",
   "execution_count": 32,
   "metadata": {},
   "outputs": [],
   "source": [
    "y_pred_train = model.predict_proba(X_train)\n",
    "y_pred_test = model.predict_proba(X_test)"
   ]
  },
  {
   "cell_type": "code",
   "execution_count": 36,
   "metadata": {},
   "outputs": [
    {
     "data": {
      "text/plain": [
       "((323432, 2), array([0.51052774, 0.48947226]), array([0, 1]))"
      ]
     },
     "execution_count": 36,
     "metadata": {},
     "output_type": "execute_result"
    }
   ],
   "source": [
    "y_pred_train.shape, y_pred_train[0],model.classes_"
   ]
  },
  {
   "cell_type": "code",
   "execution_count": 38,
   "metadata": {},
   "outputs": [
    {
     "name": "stdout",
     "output_type": "stream",
     "text": [
      "auc_train=0.728747, auc_test=0.726301, accuracy_train=0.67899, accuracy_test=0.676185\n"
     ]
    }
   ],
   "source": [
    "auc_test = roc_auc_score(y_test,y_pred_test[:,1])\n",
    "accuracy_test = accuracy_score(y_test,y_pred_test[:,1]>0.5)\n",
    "auc_train = roc_auc_score(y_train,y_pred_train[:,1])\n",
    "accuracy_train = accuracy_score(y_train,y_pred_train[:,1]>0.5)\n",
    "\n",
    "print(\"auc_train=%g, auc_test=%g, accuracy_train=%g, accuracy_test=%g\" % (auc_train, auc_test, accuracy_train, accuracy_test))"
   ]
  },
  {
   "cell_type": "code",
   "execution_count": null,
   "metadata": {},
   "outputs": [],
   "source": []
  }
 ],
 "metadata": {
  "kernelspec": {
   "display_name": "Python 3",
   "language": "python",
   "name": "python3"
  },
  "language_info": {
   "codemirror_mode": {
    "name": "ipython",
    "version": 3
   },
   "file_extension": ".py",
   "mimetype": "text/x-python",
   "name": "python",
   "nbconvert_exporter": "python",
   "pygments_lexer": "ipython3",
   "version": "3.6.6"
  }
 },
 "nbformat": 4,
 "nbformat_minor": 2
}
