{
 "cells": [
  {
   "cell_type": "code",
   "execution_count": 14,
   "metadata": {},
   "outputs": [],
   "source": [
    "\"\"\"\n",
    "nltk processing: tokenizer, stemmer, lemmatizer and case conversion(lower_case) \n",
    "and also extract the ending punctions which can be used as an feature. \n",
    "\"\"\"\n",
    "import numpy as np # linear algebra\n",
    "import pandas as pd # data processing, CSV file I/O (e.g. pd.read_csv)\n",
    "import os\n",
    "import gc\n",
    "import matplotlib.pyplot as plt\n",
    "import seaborn as sns\n",
    "import sklearn\n",
    "import nltk\n",
    "import gensim\n",
    "import string\n",
    "%matplotlib inline\n",
    "\n",
    "pal = sns.color_palette()"
   ]
  },
  {
   "cell_type": "code",
   "execution_count": 10,
   "metadata": {},
   "outputs": [],
   "source": [
    "#df_train, df_test = train_test_split(df, test_size=0.2, random_state=4)\n",
    "df_train = pd.read_csv(\"train.csv\",index_col=0)\n",
    "df_test = pd.read_csv(\"test.csv\",index_col=0)"
   ]
  },
  {
   "cell_type": "code",
   "execution_count": 11,
   "metadata": {},
   "outputs": [
    {
     "data": {
      "text/plain": [
       "((323432, 6), (80858, 6))"
      ]
     },
     "execution_count": 11,
     "metadata": {},
     "output_type": "execute_result"
    }
   ],
   "source": [
    "df_train.shape, df_test.shape"
   ]
  },
  {
   "cell_type": "code",
   "execution_count": 20,
   "metadata": {},
   "outputs": [
    {
     "data": {
      "text/html": [
       "<div>\n",
       "<style scoped>\n",
       "    .dataframe tbody tr th:only-of-type {\n",
       "        vertical-align: middle;\n",
       "    }\n",
       "\n",
       "    .dataframe tbody tr th {\n",
       "        vertical-align: top;\n",
       "    }\n",
       "\n",
       "    .dataframe thead th {\n",
       "        text-align: right;\n",
       "    }\n",
       "</style>\n",
       "<table border=\"1\" class=\"dataframe\">\n",
       "  <thead>\n",
       "    <tr style=\"text-align: right;\">\n",
       "      <th></th>\n",
       "      <th>id</th>\n",
       "      <th>qid1</th>\n",
       "      <th>qid2</th>\n",
       "      <th>question1</th>\n",
       "      <th>question2</th>\n",
       "      <th>is_duplicate</th>\n",
       "    </tr>\n",
       "  </thead>\n",
       "  <tbody>\n",
       "    <tr>\n",
       "      <th>145367</th>\n",
       "      <td>145367</td>\n",
       "      <td>229850</td>\n",
       "      <td>229851</td>\n",
       "      <td>Is there only one consciousness?</td>\n",
       "      <td>Is consciousness one for everyone?</td>\n",
       "      <td>1</td>\n",
       "    </tr>\n",
       "    <tr>\n",
       "      <th>123169</th>\n",
       "      <td>123169</td>\n",
       "      <td>98309</td>\n",
       "      <td>199206</td>\n",
       "      <td>Which is a suitable solar panel installation p...</td>\n",
       "      <td>Which is a suitable solar panel installation p...</td>\n",
       "      <td>0</td>\n",
       "    </tr>\n",
       "    <tr>\n",
       "      <th>57880</th>\n",
       "      <td>57880</td>\n",
       "      <td>101653</td>\n",
       "      <td>101654</td>\n",
       "      <td>Is there any idea for a new and useful mini pr...</td>\n",
       "      <td>Are there any new topics in computer science t...</td>\n",
       "      <td>0</td>\n",
       "    </tr>\n",
       "    <tr>\n",
       "      <th>213043</th>\n",
       "      <td>213043</td>\n",
       "      <td>318261</td>\n",
       "      <td>318262</td>\n",
       "      <td>What does it mean if a girl cries after hurtin...</td>\n",
       "      <td>What does it mean if a girl cries without any ...</td>\n",
       "      <td>0</td>\n",
       "    </tr>\n",
       "    <tr>\n",
       "      <th>204901</th>\n",
       "      <td>204901</td>\n",
       "      <td>307914</td>\n",
       "      <td>307915</td>\n",
       "      <td>What are some wholesale drop shippers that hav...</td>\n",
       "      <td>What portrait lenses are compatible with the C...</td>\n",
       "      <td>0</td>\n",
       "    </tr>\n",
       "  </tbody>\n",
       "</table>\n",
       "</div>"
      ],
      "text/plain": [
       "            id    qid1    qid2  \\\n",
       "145367  145367  229850  229851   \n",
       "123169  123169   98309  199206   \n",
       "57880    57880  101653  101654   \n",
       "213043  213043  318261  318262   \n",
       "204901  204901  307914  307915   \n",
       "\n",
       "                                                question1  \\\n",
       "145367                   Is there only one consciousness?   \n",
       "123169  Which is a suitable solar panel installation p...   \n",
       "57880   Is there any idea for a new and useful mini pr...   \n",
       "213043  What does it mean if a girl cries after hurtin...   \n",
       "204901  What are some wholesale drop shippers that hav...   \n",
       "\n",
       "                                                question2  is_duplicate  \n",
       "145367                 Is consciousness one for everyone?             1  \n",
       "123169  Which is a suitable solar panel installation p...             0  \n",
       "57880   Are there any new topics in computer science t...             0  \n",
       "213043  What does it mean if a girl cries without any ...             0  \n",
       "204901  What portrait lenses are compatible with the C...             0  "
      ]
     },
     "execution_count": 20,
     "metadata": {},
     "output_type": "execute_result"
    }
   ],
   "source": [
    "df_train.head()"
   ]
  },
  {
   "cell_type": "code",
   "execution_count": 36,
   "metadata": {},
   "outputs": [],
   "source": [
    "porter = nltk.PorterStemmer()\n",
    "wnl = nltk.WordNetLemmatizer()\n",
    "def normalize_sentence(s):\n",
    "    \"\"\"\n",
    "    normlize sentence, \n",
    "    @param s: a sentence \n",
    "    TODO: need to remove punctuation? \n",
    "    return List[word], with words stemmed,lemmatized, all lower case, \n",
    "    \"\"\"\n",
    "    try: \n",
    "        tokens = nltk.word_tokenize(s) #stem change why->whi \n",
    "\n",
    "        #stems = [porter.stem(t) for t in tokens] #stem change why->whi \n",
    "        words = [wnl.lemmatize(t).lower() for t in tokens]\n",
    "    except:\n",
    "        words = []\n",
    "    return words"
   ]
  },
  {
   "cell_type": "code",
   "execution_count": 29,
   "metadata": {},
   "outputs": [
    {
     "data": {
      "text/plain": [
       "['why', 'is', 'facetime', 'banned', 'in', 'uae', '?']"
      ]
     },
     "execution_count": 29,
     "metadata": {},
     "output_type": "execute_result"
    }
   ],
   "source": [
    "s=\"Why is FaceTime banned in UAE?\"\n",
    "r=normalize_sentence(s)\n",
    "r"
   ]
  },
  {
   "cell_type": "code",
   "execution_count": 32,
   "metadata": {},
   "outputs": [
    {
     "data": {
      "text/plain": [
       "145367                     Is there only one consciousness?\n",
       "123169    Which is a suitable solar panel installation p...\n",
       "57880     Is there any idea for a new and useful mini pr...\n",
       "213043    What does it mean if a girl cries after hurtin...\n",
       "204901    What are some wholesale drop shippers that hav...\n",
       "5381      How can plan a trip for 3 and half days to Goa...\n",
       "295129    Is our PM Modi doing the correct thing with 50...\n",
       "33730     If gay marriage is legal, then what's to stop ...\n",
       "105706    What are the day-to-day duties of a sales plan...\n",
       "324456      Why doesn't it matter what people think of you?\n",
       "Name: question1, dtype: object"
      ]
     },
     "execution_count": 32,
     "metadata": {},
     "output_type": "execute_result"
    }
   ],
   "source": [
    "df_train[\"question1\"][:10]"
   ]
  },
  {
   "cell_type": "code",
   "execution_count": 35,
   "metadata": {},
   "outputs": [
    {
     "data": {
      "text/plain": [
       "145367             [is, there, only, one, consciousness, ?]\n",
       "123169    [which, is, a, suitable, solar, panel, install...\n",
       "57880     [is, there, any, idea, for, a, new, and, usefu...\n",
       "213043    [what, doe, it, mean, if, a, girl, cry, after,...\n",
       "204901    [what, are, some, wholesale, drop, shipper, th...\n",
       "5381      [how, can, plan, a, trip, for, 3, and, half, d...\n",
       "295129    [is, our, pm, modi, doing, the, correct, thing...\n",
       "33730     [if, gay, marriage, is, legal, ,, then, what, ...\n",
       "105706    [what, are, the, day-to-day, duty, of, a, sale...\n",
       "324456    [why, doe, n't, it, matter, what, people, thin...\n",
       "Name: question1, dtype: object"
      ]
     },
     "execution_count": 35,
     "metadata": {},
     "output_type": "execute_result"
    }
   ],
   "source": [
    "tmp = df_train[\"question1\"][:10].apply(lambda s: normalize_sentence(s))\n",
    "tmp"
   ]
  },
  {
   "cell_type": "code",
   "execution_count": 41,
   "metadata": {},
   "outputs": [],
   "source": [
    "df_train[\"words_1\"] = df_train[\"question1\"].apply(lambda s: normalize_sentence(s))\n",
    "df_train[\"words_2\"] = df_train[\"question2\"].apply(lambda s: normalize_sentence(s))\n",
    "df_test[\"words_1\"] = df_test[\"question1\"].apply(lambda s: normalize_sentence(s))\n",
    "df_test[\"words_2\"] = df_test[\"question2\"].apply(lambda s: normalize_sentence(s))"
   ]
  },
  {
   "cell_type": "code",
   "execution_count": 56,
   "metadata": {},
   "outputs": [],
   "source": [
    "#extract ending punctuation, 'x' if no punctuation\n",
    "def end_punc(s):\n",
    "    if s:\n",
    "        t = s[-1]\n",
    "        return t if t in string.punctuation else 'x'\n",
    "    else:\n",
    "        return 'x'"
   ]
  },
  {
   "cell_type": "code",
   "execution_count": 57,
   "metadata": {},
   "outputs": [],
   "source": [
    "df_train[\"end_punc_1\"] = df_train[\"words_1\"].apply(lambda s: end_punc(s))\n",
    "df_train[\"end_punc_2\"] = df_train[\"words_2\"].apply(lambda s: end_punc(s))\n",
    "df_test[\"end_punc_1\"] = df_test[\"words_1\"].apply(lambda s: end_punc(s))\n",
    "df_test[\"end_punc_2\"] = df_test[\"words_2\"].apply(lambda s: end_punc(s))"
   ]
  },
  {
   "cell_type": "code",
   "execution_count": 58,
   "metadata": {},
   "outputs": [
    {
     "data": {
      "text/plain": [
       "?    320073\n",
       ".      1417\n",
       "x      1250\n",
       ")       510\n",
       "!        99\n",
       "]        38\n",
       "'        14\n",
       "*         8\n",
       ",         6\n",
       ":         5\n",
       "[         3\n",
       "}         2\n",
       "-         2\n",
       ">         1\n",
       ";         1\n",
       "\\         1\n",
       "%         1\n",
       "(         1\n",
       "Name: end_punc_1, dtype: int64"
      ]
     },
     "execution_count": 58,
     "metadata": {},
     "output_type": "execute_result"
    }
   ],
   "source": [
    "df_train['end_punc_1'].value_counts()"
   ]
  },
  {
   "cell_type": "code",
   "execution_count": 62,
   "metadata": {},
   "outputs": [],
   "source": [
    "#df_train[\"is_same_end_punc\"] = (df_train['end_punc_1'] == df_train['end_punc_2'])\n",
    "df_test[\"is_same_end_punc\"] = (df_test['end_punc_1'] == df_test['end_punc_2'])"
   ]
  },
  {
   "cell_type": "code",
   "execution_count": 65,
   "metadata": {},
   "outputs": [
    {
     "data": {
      "text/plain": [
       "True     317064\n",
       "False      6368\n",
       "Name: is_same_end_punc, dtype: int64"
      ]
     },
     "execution_count": 65,
     "metadata": {},
     "output_type": "execute_result"
    }
   ],
   "source": [
    "df_train['is_same_end_punc'].value_counts()"
   ]
  },
  {
   "cell_type": "code",
   "execution_count": 67,
   "metadata": {},
   "outputs": [
    {
     "data": {
      "text/plain": [
       "True     79258\n",
       "False     1600\n",
       "Name: is_same_end_punc, dtype: int64"
      ]
     },
     "execution_count": 67,
     "metadata": {},
     "output_type": "execute_result"
    }
   ],
   "source": [
    "df_test['is_same_end_punc'].value_counts()"
   ]
  },
  {
   "cell_type": "code",
   "execution_count": 68,
   "metadata": {},
   "outputs": [],
   "source": [
    "#save \n",
    "df_train.to_pickle(\"train_pp.pkl\")\n",
    "df_test.to_pickle(\"test_pp.pkl\")"
   ]
  },
  {
   "cell_type": "code",
   "execution_count": null,
   "metadata": {},
   "outputs": [],
   "source": []
  }
 ],
 "metadata": {
  "kernelspec": {
   "display_name": "Python 3",
   "language": "python",
   "name": "python3"
  },
  "language_info": {
   "codemirror_mode": {
    "name": "ipython",
    "version": 3
   },
   "file_extension": ".py",
   "mimetype": "text/x-python",
   "name": "python",
   "nbconvert_exporter": "python",
   "pygments_lexer": "ipython3",
   "version": "3.6.6"
  }
 },
 "nbformat": 4,
 "nbformat_minor": 2
}
