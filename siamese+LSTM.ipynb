{
 "cells": [
  {
   "cell_type": "code",
   "execution_count": 4,
   "metadata": {},
   "outputs": [],
   "source": [
    "import numpy as np \n",
    "import pandas as pd\n",
    "from sklearn.metrics import roc_auc_score, roc_curve, accuracy_score\n",
    "import keras\n",
    "from keras.layers import Input, LSTM, Dense,Lambda\n",
    "from keras.models import Model\n",
    "from keras.utils import plot_model\n",
    "from keras.layers.embeddings import Embedding\n",
    "from keras import backend as K\n",
    "from keras.layers import multiply\n",
    "from matplotlib import pyplot as plt\n",
    "import gensim.downloader as api\n",
    "from gensim.models import Word2Vec\n",
    "from gensim.models.keyedvectors import Word2VecKeyedVectors"
   ]
  },
  {
   "cell_type": "code",
   "execution_count": 7,
   "metadata": {},
   "outputs": [],
   "source": [
    "#use pre-trained:'Wikipedia 2014 + Gigaword 5 (6B tokens, uncased)'\n",
    "#vocab: 400K\n",
    "# api.info(\"glove-wiki-gigaword-100\")\n",
    "#word_vectors = api.load(\"glove-wiki-gigaword-100\")\n",
    "#word_vectors.save(\"glove-wiki-gigaword-100.model\")\n",
    "word_vectors = Word2VecKeyedVectors.load(\"glove-wiki-gigaword-100.model\")"
   ]
  },
  {
   "cell_type": "code",
   "execution_count": 8,
   "metadata": {},
   "outputs": [],
   "source": [
    "#define the model \n",
    "max_qlen = 50 #Truncate if longer\n",
    "vocab_len = len(word_vectors.vocab)+1\n",
    "wv_len = word_vectors.get_vector(\"the\").shape[0]"
   ]
  },
  {
   "cell_type": "code",
   "execution_count": 9,
   "metadata": {},
   "outputs": [],
   "source": [
    "df_train = pd.read_pickle(\"train_pp.pkl\")\n",
    "df_test = pd.read_pickle(\"test_pp.pkl\")"
   ]
  },
  {
   "cell_type": "code",
   "execution_count": 10,
   "metadata": {},
   "outputs": [
    {
     "data": {
      "text/html": [
       "<div>\n",
       "<style scoped>\n",
       "    .dataframe tbody tr th:only-of-type {\n",
       "        vertical-align: middle;\n",
       "    }\n",
       "\n",
       "    .dataframe tbody tr th {\n",
       "        vertical-align: top;\n",
       "    }\n",
       "\n",
       "    .dataframe thead th {\n",
       "        text-align: right;\n",
       "    }\n",
       "</style>\n",
       "<table border=\"1\" class=\"dataframe\">\n",
       "  <thead>\n",
       "    <tr style=\"text-align: right;\">\n",
       "      <th></th>\n",
       "      <th>id</th>\n",
       "      <th>qid1</th>\n",
       "      <th>qid2</th>\n",
       "      <th>question1</th>\n",
       "      <th>question2</th>\n",
       "      <th>is_duplicate</th>\n",
       "      <th>words_1</th>\n",
       "      <th>words_2</th>\n",
       "      <th>end_punc_1</th>\n",
       "      <th>end_punc_2</th>\n",
       "      <th>is_same_end_punc</th>\n",
       "    </tr>\n",
       "  </thead>\n",
       "  <tbody>\n",
       "    <tr>\n",
       "      <th>145367</th>\n",
       "      <td>145367</td>\n",
       "      <td>229850</td>\n",
       "      <td>229851</td>\n",
       "      <td>Is there only one consciousness?</td>\n",
       "      <td>Is consciousness one for everyone?</td>\n",
       "      <td>1</td>\n",
       "      <td>[is, there, only, one, consciousness, ?]</td>\n",
       "      <td>[is, consciousness, one, for, everyone, ?]</td>\n",
       "      <td>?</td>\n",
       "      <td>?</td>\n",
       "      <td>True</td>\n",
       "    </tr>\n",
       "    <tr>\n",
       "      <th>123169</th>\n",
       "      <td>123169</td>\n",
       "      <td>98309</td>\n",
       "      <td>199206</td>\n",
       "      <td>Which is a suitable solar panel installation p...</td>\n",
       "      <td>Which is a suitable solar panel installation p...</td>\n",
       "      <td>0</td>\n",
       "      <td>[which, is, a, suitable, solar, panel, install...</td>\n",
       "      <td>[which, is, a, suitable, solar, panel, install...</td>\n",
       "      <td>?</td>\n",
       "      <td>?</td>\n",
       "      <td>True</td>\n",
       "    </tr>\n",
       "    <tr>\n",
       "      <th>57880</th>\n",
       "      <td>57880</td>\n",
       "      <td>101653</td>\n",
       "      <td>101654</td>\n",
       "      <td>Is there any idea for a new and useful mini pr...</td>\n",
       "      <td>Are there any new topics in computer science t...</td>\n",
       "      <td>0</td>\n",
       "      <td>[is, there, any, idea, for, a, new, and, usefu...</td>\n",
       "      <td>[are, there, any, new, topic, in, computer, sc...</td>\n",
       "      <td>?</td>\n",
       "      <td>?</td>\n",
       "      <td>True</td>\n",
       "    </tr>\n",
       "    <tr>\n",
       "      <th>213043</th>\n",
       "      <td>213043</td>\n",
       "      <td>318261</td>\n",
       "      <td>318262</td>\n",
       "      <td>What does it mean if a girl cries after hurtin...</td>\n",
       "      <td>What does it mean if a girl cries without any ...</td>\n",
       "      <td>0</td>\n",
       "      <td>[what, doe, it, mean, if, a, girl, cry, after,...</td>\n",
       "      <td>[what, doe, it, mean, if, a, girl, cry, withou...</td>\n",
       "      <td>?</td>\n",
       "      <td>?</td>\n",
       "      <td>True</td>\n",
       "    </tr>\n",
       "    <tr>\n",
       "      <th>204901</th>\n",
       "      <td>204901</td>\n",
       "      <td>307914</td>\n",
       "      <td>307915</td>\n",
       "      <td>What are some wholesale drop shippers that hav...</td>\n",
       "      <td>What portrait lenses are compatible with the C...</td>\n",
       "      <td>0</td>\n",
       "      <td>[what, are, some, wholesale, drop, shipper, th...</td>\n",
       "      <td>[what, portrait, lens, are, compatible, with, ...</td>\n",
       "      <td>?</td>\n",
       "      <td>?</td>\n",
       "      <td>True</td>\n",
       "    </tr>\n",
       "  </tbody>\n",
       "</table>\n",
       "</div>"
      ],
      "text/plain": [
       "            id    qid1    qid2  \\\n",
       "145367  145367  229850  229851   \n",
       "123169  123169   98309  199206   \n",
       "57880    57880  101653  101654   \n",
       "213043  213043  318261  318262   \n",
       "204901  204901  307914  307915   \n",
       "\n",
       "                                                question1  \\\n",
       "145367                   Is there only one consciousness?   \n",
       "123169  Which is a suitable solar panel installation p...   \n",
       "57880   Is there any idea for a new and useful mini pr...   \n",
       "213043  What does it mean if a girl cries after hurtin...   \n",
       "204901  What are some wholesale drop shippers that hav...   \n",
       "\n",
       "                                                question2  is_duplicate  \\\n",
       "145367                 Is consciousness one for everyone?             1   \n",
       "123169  Which is a suitable solar panel installation p...             0   \n",
       "57880   Are there any new topics in computer science t...             0   \n",
       "213043  What does it mean if a girl cries without any ...             0   \n",
       "204901  What portrait lenses are compatible with the C...             0   \n",
       "\n",
       "                                                  words_1  \\\n",
       "145367           [is, there, only, one, consciousness, ?]   \n",
       "123169  [which, is, a, suitable, solar, panel, install...   \n",
       "57880   [is, there, any, idea, for, a, new, and, usefu...   \n",
       "213043  [what, doe, it, mean, if, a, girl, cry, after,...   \n",
       "204901  [what, are, some, wholesale, drop, shipper, th...   \n",
       "\n",
       "                                                  words_2 end_punc_1  \\\n",
       "145367         [is, consciousness, one, for, everyone, ?]          ?   \n",
       "123169  [which, is, a, suitable, solar, panel, install...          ?   \n",
       "57880   [are, there, any, new, topic, in, computer, sc...          ?   \n",
       "213043  [what, doe, it, mean, if, a, girl, cry, withou...          ?   \n",
       "204901  [what, portrait, lens, are, compatible, with, ...          ?   \n",
       "\n",
       "       end_punc_2  is_same_end_punc  \n",
       "145367          ?              True  \n",
       "123169          ?              True  \n",
       "57880           ?              True  \n",
       "213043          ?              True  \n",
       "204901          ?              True  "
      ]
     },
     "execution_count": 10,
     "metadata": {},
     "output_type": "execute_result"
    }
   ],
   "source": [
    "df_train.head()"
   ]
  },
  {
   "cell_type": "code",
   "execution_count": 11,
   "metadata": {},
   "outputs": [],
   "source": [
    "def words2ints(words,max_len):\n",
    "    \"\"\"\n",
    "    turn a list words to their word indices; padd or truncate to  max_len;\n",
    "    @params words: List[str]\n",
    "    return List[int]\n",
    "    \"\"\"\n",
    "    rv = np.zeros((max_len,))\n",
    "    for i,w in enumerate(words[:max_len]): \n",
    "        if w in word_vectors.vocab: \n",
    "            rv[i]=word_vectors.vocab[w].index + 1 #Don't forget to shift since keras use 0 for OOV \n",
    "        else: \n",
    "            rv[i]=0 \n",
    "    return rv "
   ]
  },
  {
   "cell_type": "code",
   "execution_count": 12,
   "metadata": {},
   "outputs": [],
   "source": [
    "df_train['q1_indices'] = df_train['words_1'].apply(lambda x: words2ints(x,max_qlen))\n",
    "df_train['q2_indices'] = df_train['words_2'].apply(lambda x: words2ints(x,max_qlen))\n",
    "df_test['q1_indices'] = df_test['words_1'].apply(lambda x: words2ints(x,max_qlen))\n",
    "df_test['q2_indices'] = df_test['words_2'].apply(lambda x: words2ints(x,max_qlen))\n"
   ]
  },
  {
   "cell_type": "code",
   "execution_count": 13,
   "metadata": {},
   "outputs": [
    {
     "data": {
      "text/html": [
       "<div>\n",
       "<style scoped>\n",
       "    .dataframe tbody tr th:only-of-type {\n",
       "        vertical-align: middle;\n",
       "    }\n",
       "\n",
       "    .dataframe tbody tr th {\n",
       "        vertical-align: top;\n",
       "    }\n",
       "\n",
       "    .dataframe thead th {\n",
       "        text-align: right;\n",
       "    }\n",
       "</style>\n",
       "<table border=\"1\" class=\"dataframe\">\n",
       "  <thead>\n",
       "    <tr style=\"text-align: right;\">\n",
       "      <th></th>\n",
       "      <th>id</th>\n",
       "      <th>qid1</th>\n",
       "      <th>qid2</th>\n",
       "      <th>question1</th>\n",
       "      <th>question2</th>\n",
       "      <th>is_duplicate</th>\n",
       "      <th>words_1</th>\n",
       "      <th>words_2</th>\n",
       "      <th>end_punc_1</th>\n",
       "      <th>end_punc_2</th>\n",
       "      <th>is_same_end_punc</th>\n",
       "      <th>q1_indices</th>\n",
       "      <th>q2_indices</th>\n",
       "    </tr>\n",
       "  </thead>\n",
       "  <tbody>\n",
       "    <tr>\n",
       "      <th>145367</th>\n",
       "      <td>145367</td>\n",
       "      <td>229850</td>\n",
       "      <td>229851</td>\n",
       "      <td>Is there only one consciousness?</td>\n",
       "      <td>Is consciousness one for everyone?</td>\n",
       "      <td>1</td>\n",
       "      <td>[is, there, only, one, consciousness, ?]</td>\n",
       "      <td>[is, consciousness, one, for, everyone, ?]</td>\n",
       "      <td>?</td>\n",
       "      <td>?</td>\n",
       "      <td>True</td>\n",
       "      <td>[15.0, 64.0, 92.0, 49.0, 8658.0, 189.0, 0.0, 0...</td>\n",
       "      <td>[15.0, 8658.0, 49.0, 11.0, 1403.0, 189.0, 0.0,...</td>\n",
       "    </tr>\n",
       "    <tr>\n",
       "      <th>123169</th>\n",
       "      <td>123169</td>\n",
       "      <td>98309</td>\n",
       "      <td>199206</td>\n",
       "      <td>Which is a suitable solar panel installation p...</td>\n",
       "      <td>Which is a suitable solar panel installation p...</td>\n",
       "      <td>0</td>\n",
       "      <td>[which, is, a, suitable, solar, panel, install...</td>\n",
       "      <td>[which, is, a, suitable, solar, panel, install...</td>\n",
       "      <td>?</td>\n",
       "      <td>?</td>\n",
       "      <td>True</td>\n",
       "      <td>[43.0, 15.0, 8.0, 7089.0, 4709.0, 1909.0, 7389...</td>\n",
       "      <td>[43.0, 15.0, 8.0, 7089.0, 4709.0, 1909.0, 7389...</td>\n",
       "    </tr>\n",
       "    <tr>\n",
       "      <th>57880</th>\n",
       "      <td>57880</td>\n",
       "      <td>101653</td>\n",
       "      <td>101654</td>\n",
       "      <td>Is there any idea for a new and useful mini pr...</td>\n",
       "      <td>Are there any new topics in computer science t...</td>\n",
       "      <td>0</td>\n",
       "      <td>[is, there, any, idea, for, a, new, and, usefu...</td>\n",
       "      <td>[are, there, any, new, topic, in, computer, sc...</td>\n",
       "      <td>?</td>\n",
       "      <td>?</td>\n",
       "      <td>True</td>\n",
       "      <td>[15.0, 64.0, 131.0, 1160.0, 11.0, 8.0, 51.0, 6...</td>\n",
       "      <td>[33.0, 64.0, 131.0, 51.0, 6284.0, 7.0, 952.0, ...</td>\n",
       "    </tr>\n",
       "    <tr>\n",
       "      <th>213043</th>\n",
       "      <td>213043</td>\n",
       "      <td>318261</td>\n",
       "      <td>318262</td>\n",
       "      <td>What does it mean if a girl cries after hurtin...</td>\n",
       "      <td>What does it mean if a girl cries without any ...</td>\n",
       "      <td>0</td>\n",
       "      <td>[what, doe, it, mean, if, a, girl, cry, after,...</td>\n",
       "      <td>[what, doe, it, mean, if, a, girl, cry, withou...</td>\n",
       "      <td>?</td>\n",
       "      <td>?</td>\n",
       "      <td>True</td>\n",
       "      <td>[103.0, 14220.0, 21.0, 1703.0, 84.0, 8.0, 1750...</td>\n",
       "      <td>[103.0, 14220.0, 21.0, 1703.0, 84.0, 8.0, 1750...</td>\n",
       "    </tr>\n",
       "    <tr>\n",
       "      <th>204901</th>\n",
       "      <td>204901</td>\n",
       "      <td>307914</td>\n",
       "      <td>307915</td>\n",
       "      <td>What are some wholesale drop shippers that hav...</td>\n",
       "      <td>What portrait lenses are compatible with the C...</td>\n",
       "      <td>0</td>\n",
       "      <td>[what, are, some, wholesale, drop, shipper, th...</td>\n",
       "      <td>[what, portrait, lens, are, compatible, with, ...</td>\n",
       "      <td>?</td>\n",
       "      <td>?</td>\n",
       "      <td>True</td>\n",
       "      <td>[103.0, 33.0, 78.0, 7531.0, 1561.0, 59002.0, 1...</td>\n",
       "      <td>[103.0, 6034.0, 9025.0, 33.0, 11631.0, 18.0, 1...</td>\n",
       "    </tr>\n",
       "  </tbody>\n",
       "</table>\n",
       "</div>"
      ],
      "text/plain": [
       "            id    qid1    qid2  \\\n",
       "145367  145367  229850  229851   \n",
       "123169  123169   98309  199206   \n",
       "57880    57880  101653  101654   \n",
       "213043  213043  318261  318262   \n",
       "204901  204901  307914  307915   \n",
       "\n",
       "                                                question1  \\\n",
       "145367                   Is there only one consciousness?   \n",
       "123169  Which is a suitable solar panel installation p...   \n",
       "57880   Is there any idea for a new and useful mini pr...   \n",
       "213043  What does it mean if a girl cries after hurtin...   \n",
       "204901  What are some wholesale drop shippers that hav...   \n",
       "\n",
       "                                                question2  is_duplicate  \\\n",
       "145367                 Is consciousness one for everyone?             1   \n",
       "123169  Which is a suitable solar panel installation p...             0   \n",
       "57880   Are there any new topics in computer science t...             0   \n",
       "213043  What does it mean if a girl cries without any ...             0   \n",
       "204901  What portrait lenses are compatible with the C...             0   \n",
       "\n",
       "                                                  words_1  \\\n",
       "145367           [is, there, only, one, consciousness, ?]   \n",
       "123169  [which, is, a, suitable, solar, panel, install...   \n",
       "57880   [is, there, any, idea, for, a, new, and, usefu...   \n",
       "213043  [what, doe, it, mean, if, a, girl, cry, after,...   \n",
       "204901  [what, are, some, wholesale, drop, shipper, th...   \n",
       "\n",
       "                                                  words_2 end_punc_1  \\\n",
       "145367         [is, consciousness, one, for, everyone, ?]          ?   \n",
       "123169  [which, is, a, suitable, solar, panel, install...          ?   \n",
       "57880   [are, there, any, new, topic, in, computer, sc...          ?   \n",
       "213043  [what, doe, it, mean, if, a, girl, cry, withou...          ?   \n",
       "204901  [what, portrait, lens, are, compatible, with, ...          ?   \n",
       "\n",
       "       end_punc_2  is_same_end_punc  \\\n",
       "145367          ?              True   \n",
       "123169          ?              True   \n",
       "57880           ?              True   \n",
       "213043          ?              True   \n",
       "204901          ?              True   \n",
       "\n",
       "                                               q1_indices  \\\n",
       "145367  [15.0, 64.0, 92.0, 49.0, 8658.0, 189.0, 0.0, 0...   \n",
       "123169  [43.0, 15.0, 8.0, 7089.0, 4709.0, 1909.0, 7389...   \n",
       "57880   [15.0, 64.0, 131.0, 1160.0, 11.0, 8.0, 51.0, 6...   \n",
       "213043  [103.0, 14220.0, 21.0, 1703.0, 84.0, 8.0, 1750...   \n",
       "204901  [103.0, 33.0, 78.0, 7531.0, 1561.0, 59002.0, 1...   \n",
       "\n",
       "                                               q2_indices  \n",
       "145367  [15.0, 8658.0, 49.0, 11.0, 1403.0, 189.0, 0.0,...  \n",
       "123169  [43.0, 15.0, 8.0, 7089.0, 4709.0, 1909.0, 7389...  \n",
       "57880   [33.0, 64.0, 131.0, 51.0, 6284.0, 7.0, 952.0, ...  \n",
       "213043  [103.0, 14220.0, 21.0, 1703.0, 84.0, 8.0, 1750...  \n",
       "204901  [103.0, 6034.0, 9025.0, 33.0, 11631.0, 18.0, 1...  "
      ]
     },
     "execution_count": 13,
     "metadata": {},
     "output_type": "execute_result"
    }
   ],
   "source": [
    "df_train.head()"
   ]
  },
  {
   "cell_type": "code",
   "execution_count": 15,
   "metadata": {},
   "outputs": [],
   "source": [
    "q1_seq_train = np.vstack(df_train.q1_indices.values)\n",
    "q2_seq_train = np.vstack(df_train.q2_indices.values)\n",
    "q1_seq_test = np.vstack(df_test.q1_indices.values)\n",
    "q2_seq_test = np.vstack(df_test.q2_indices.values)\n",
    "y_train = df_train.is_duplicate.values\n",
    "y_test = df_test.is_duplicate.values"
   ]
  },
  {
   "cell_type": "code",
   "execution_count": 16,
   "metadata": {},
   "outputs": [
    {
     "data": {
      "text/plain": [
       "((323432, 50), (323432, 50), (323432,))"
      ]
     },
     "execution_count": 16,
     "metadata": {},
     "output_type": "execute_result"
    }
   ],
   "source": [
    "q1_seq_train.shape, q2_seq_train.shape, y_train.shape"
   ]
  },
  {
   "cell_type": "code",
   "execution_count": 17,
   "metadata": {},
   "outputs": [
    {
     "data": {
      "text/plain": [
       "((323432, 13), (80858, 13))"
      ]
     },
     "execution_count": 17,
     "metadata": {},
     "output_type": "execute_result"
    }
   ],
   "source": [
    "df_train.shape,df_test.shape"
   ]
  },
  {
   "cell_type": "code",
   "execution_count": 18,
   "metadata": {},
   "outputs": [],
   "source": [
    "#embedding = word_vectors.get_keras_embedding() #Don't use this, gensim doesn't consider OOV https://github.com/RaRe-Technologies/gensim/blob/2ccc82bf50bcfbee44932c160db076a873cf893e/gensim/models/keyedvectors.py#L1491\n",
    "embd_weights = np.zeros((vocab_len,wv_len))\n",
    "embd_weights[1:,:] = word_vectors.vectors\n"
   ]
  },
  {
   "cell_type": "code",
   "execution_count": 19,
   "metadata": {},
   "outputs": [],
   "source": [
    "#define the model \n",
    "word2vec_layer = Embedding(vocab_len, wv_len, trainable=False,weights=[embd_weights],name=\"word2vec\") #check this Emoji and gensim set the weight in different ways\n",
    "get_word_weight_layer = Embedding(vocab_len, 1, trainable=False,weights=[np.ones((vocab_len,1))], name=\"get_word_weight\") #generalize tf-idf\n",
    "#reduce_layer = Lambda(lambda x: K.sum(x, axis=1), output_shape=lambda s: (s[0], s[2]),name=\"vector_reduction\")\n",
    "lstm_layer = LSTM(100,name=\"lstm_1\")\n",
    "\n",
    "q1 = Input(shape=(max_qlen,),name=\"question_1\")\n",
    "q2 = Input(shape=(max_qlen,),name=\"question_2\")\n",
    "\n",
    "q1_wv = word2vec_layer(q1)\n",
    "q1_ww = get_word_weight_layer(q1)\n",
    "q1_wv_ww = multiply([q1_wv,q1_ww])\n",
    "#q1_final_vec = reduce_layer(q1_wv_ww)\n",
    "q1_final_vec = lstm_layer(q1_wv_ww)\n",
    "\n",
    "q2_wv = word2vec_layer(q2)\n",
    "q2_ww = get_word_weight_layer(q2)\n",
    "q2_wv_ww = multiply([q2_wv,q2_ww])\n",
    "#q2_final_vec = reduce_layer(q2_wv_ww)\n",
    "q2_final_vec = lstm_layer(q2_wv_ww)\n",
    "\n",
    "merged_vector = keras.layers.concatenate([q1_final_vec, q2_final_vec], axis=-1,name=\"merge\")\n",
    "predictions = Dense(1, activation='sigmoid',name=\"sigmoid\")(merged_vector)\n",
    "model = Model(inputs=[q1, q2], outputs=predictions)\n",
    "\n",
    "model.compile(optimizer='adam',\n",
    "              loss='binary_crossentropy',\n",
    "              metrics=['accuracy'])"
   ]
  },
  {
   "cell_type": "code",
   "execution_count": 22,
   "metadata": {},
   "outputs": [
    {
     "name": "stdout",
     "output_type": "stream",
     "text": [
      "Epoch 1/20\n",
      "323432/323432 [==============================] - 636s 2ms/step - loss: 0.5625 - acc: 0.7100\n",
      "Epoch 2/20\n",
      "323432/323432 [==============================] - 590s 2ms/step - loss: 0.5141 - acc: 0.7493\n",
      "Epoch 3/20\n",
      "323432/323432 [==============================] - 617s 2ms/step - loss: 0.4944 - acc: 0.7618\n",
      "Epoch 4/20\n",
      "323432/323432 [==============================] - 611s 2ms/step - loss: 0.4772 - acc: 0.7731\n",
      "Epoch 5/20\n",
      "323432/323432 [==============================] - 622s 2ms/step - loss: 0.4599 - acc: 0.7844\n",
      "Epoch 6/20\n",
      "323432/323432 [==============================] - 572s 2ms/step - loss: 0.4454 - acc: 0.7935\n",
      "Epoch 7/20\n",
      "323432/323432 [==============================] - 560s 2ms/step - loss: 0.4306 - acc: 0.8020\n",
      "Epoch 8/20\n",
      "323432/323432 [==============================] - 540s 2ms/step - loss: 0.4186 - acc: 0.8091\n",
      "Epoch 9/20\n",
      "323432/323432 [==============================] - 554s 2ms/step - loss: 0.4074 - acc: 0.8151\n",
      "Epoch 10/20\n",
      "323432/323432 [==============================] - 598s 2ms/step - loss: 0.3962 - acc: 0.8214\n",
      "Epoch 11/20\n",
      "323432/323432 [==============================] - 626s 2ms/step - loss: 0.3858 - acc: 0.8275\n",
      "Epoch 12/20\n",
      "323432/323432 [==============================] - 626s 2ms/step - loss: 0.3774 - acc: 0.8320\n",
      "Epoch 13/20\n",
      "323432/323432 [==============================] - 640s 2ms/step - loss: 0.3689 - acc: 0.8362\n",
      "Epoch 14/20\n",
      "323432/323432 [==============================] - 646s 2ms/step - loss: 0.3623 - acc: 0.8390\n",
      "Epoch 15/20\n",
      "323432/323432 [==============================] - 632s 2ms/step - loss: 0.3561 - acc: 0.8425\n",
      "Epoch 16/20\n",
      "323432/323432 [==============================] - 643s 2ms/step - loss: 0.3502 - acc: 0.8454\n",
      "Epoch 17/20\n",
      "323432/323432 [==============================] - 620s 2ms/step - loss: 0.3457 - acc: 0.8469\n",
      "Epoch 18/20\n",
      "323432/323432 [==============================] - 630s 2ms/step - loss: 0.3395 - acc: 0.8501\n",
      "Epoch 19/20\n",
      "323432/323432 [==============================] - 604s 2ms/step - loss: 0.3353 - acc: 0.8526\n",
      "Epoch 20/20\n",
      "323432/323432 [==============================] - 631s 2ms/step - loss: 0.3309 - acc: 0.8550\n"
     ]
    },
    {
     "data": {
      "text/plain": [
       "<keras.callbacks.History at 0x7fd48d2235f8>"
      ]
     },
     "execution_count": 22,
     "metadata": {},
     "output_type": "execute_result"
    }
   ],
   "source": [
    "model.fit([q1_seq_train,q2_seq_train], y_train, epochs = 20, batch_size = 32, shuffle=True)"
   ]
  },
  {
   "cell_type": "code",
   "execution_count": 23,
   "metadata": {},
   "outputs": [],
   "source": [
    "y_pred_test = model.predict([q1_seq_test,q2_seq_test])\n",
    "y_pred_train = model.predict([q1_seq_train,q2_seq_train])"
   ]
  },
  {
   "cell_type": "code",
   "execution_count": 24,
   "metadata": {},
   "outputs": [
    {
     "name": "stdout",
     "output_type": "stream",
     "text": [
      "auc_train=0.936734, auc_test=0.828827, accuracy_train=0.866513, accuracy_test=0.768978\n"
     ]
    }
   ],
   "source": [
    "auc_test = roc_auc_score(y_test,y_pred_test)\n",
    "accuracy_test = accuracy_score(y_test,y_pred_test>0.5)\n",
    "auc_train = roc_auc_score(y_train,y_pred_train)\n",
    "accuracy_train = accuracy_score(y_train,y_pred_train>0.5)\n",
    "\n",
    "print(\"auc_train=%g, auc_test=%g, accuracy_train=%g, accuracy_test=%g\" % (auc_train, auc_test, accuracy_train, accuracy_test))"
   ]
  },
  {
   "cell_type": "code",
   "execution_count": 25,
   "metadata": {},
   "outputs": [
    {
     "data": {
      "text/plain": [
       "Text(0.5, 1.0, 'ROC for testing data')"
      ]
     },
     "execution_count": 25,
     "metadata": {},
     "output_type": "execute_result"
    },
    {
     "data": {
      "image/png": "[encoded data removed]",
      "text/plain": [
       "<Figure size 720x360 with 2 Axes>"
      ]
     },
     "metadata": {
      "needs_background": "light"
     },
     "output_type": "display_data"
    }
   ],
   "source": [
    "fpr_train, tpr_train, thresholds_train = roc_curve(y_train,y_pred_train)\n",
    "fpr_test, tpr_test, thresholds_test = roc_curve(y_test,y_pred_test)\n",
    "plt.figure(figsize=(10,5))\n",
    "plt.subplot(1,2,1)\n",
    "plt.plot(fpr_train,tpr_train, color=\"blue\", label=\"train roc, auc=%g\" % (auc_train,))\n",
    "plt.legend()\n",
    "plt.title(\"ROC for training data\")\n",
    "plt.subplot(1,2,2)\n",
    "plt.plot(fpr_test,tpr_test, color=\"green\", label=\"test roc, auc=%g\" % (auc_test,))\n",
    "plt.legend()\n",
    "plt.title(\"ROC for testing data\")"
   ]
  },
  {
   "cell_type": "code",
   "execution_count": 20,
   "metadata": {},
   "outputs": [
    {
     "name": "stdout",
     "output_type": "stream",
     "text": [
      "__________________________________________________________________________________________________\n",
      "Layer (type)                    Output Shape         Param #     Connected to                     \n",
      "==================================================================================================\n",
      "question_1 (InputLayer)         (None, 50)           0                                            \n",
      "__________________________________________________________________________________________________\n",
      "question_2 (InputLayer)         (None, 50)           0                                            \n",
      "__________________________________________________________________________________________________\n",
      "word2vec (Embedding)            (None, 50, 100)      40000100    question_1[0][0]                 \n",
      "                                                                 question_2[0][0]                 \n",
      "__________________________________________________________________________________________________\n",
      "get_word_weight (Embedding)     (None, 50, 1)        400001      question_1[0][0]                 \n",
      "                                                                 question_2[0][0]                 \n",
      "__________________________________________________________________________________________________\n",
      "multiply_1 (Multiply)           (None, 50, 100)      0           word2vec[0][0]                   \n",
      "                                                                 get_word_weight[0][0]            \n",
      "__________________________________________________________________________________________________\n",
      "multiply_2 (Multiply)           (None, 50, 100)      0           word2vec[1][0]                   \n",
      "                                                                 get_word_weight[1][0]            \n",
      "__________________________________________________________________________________________________\n",
      "lstm_1 (LSTM)                   (None, 100)          80400       multiply_1[0][0]                 \n",
      "                                                                 multiply_2[0][0]                 \n",
      "__________________________________________________________________________________________________\n",
      "merge (Concatenate)             (None, 200)          0           lstm_1[0][0]                     \n",
      "                                                                 lstm_1[1][0]                     \n",
      "__________________________________________________________________________________________________\n",
      "sigmoid (Dense)                 (None, 1)            201         merge[0][0]                      \n",
      "==================================================================================================\n",
      "Total params: 40,480,702\n",
      "Trainable params: 80,601\n",
      "Non-trainable params: 40,400,101\n",
      "__________________________________________________________________________________________________\n"
     ]
    }
   ],
   "source": [
    "model.summary()"
   ]
  },
  {
   "cell_type": "code",
   "execution_count": null,
   "metadata": {},
   "outputs": [],
   "source": []
  },
  {
   "cell_type": "code",
   "execution_count": 21,
   "metadata": {},
   "outputs": [
    {
     "data": {
      "image/png": "[encoded data removed]",
      "text/plain": [
       "<IPython.core.display.Image object>"
      ]
     },
     "execution_count": 21,
     "metadata": {},
     "output_type": "execute_result"
    }
   ],
   "source": [
    "plot_model(model,to_file=\"model.png\")\n",
    "from IPython.display import Image\n",
    "Image(filename='model.png') "
   ]
  },
  {
   "cell_type": "code",
   "execution_count": null,
   "metadata": {},
   "outputs": [],
   "source": []
  },
  {
   "cell_type": "code",
   "execution_count": 3,
   "metadata": {},
   "outputs": [
    {
     "name": "stdout",
     "output_type": "stream",
     "text": [
      "__________________________________________________________________________________________________\n",
      "Layer (type)                    Output Shape         Param #     Connected to                     \n",
      "==================================================================================================\n",
      "input_1 (InputLayer)            (None, 280, 256)     0                                            \n",
      "__________________________________________________________________________________________________\n",
      "input_2 (InputLayer)            (None, 280, 256)     0                                            \n",
      "__________________________________________________________________________________________________\n",
      "lstm_1 (LSTM)                   (None, 64)           82176       input_1[0][0]                    \n",
      "                                                                 input_2[0][0]                    \n",
      "__________________________________________________________________________________________________\n",
      "concatenate_1 (Concatenate)     (None, 128)          0           lstm_1[0][0]                     \n",
      "                                                                 lstm_1[1][0]                     \n",
      "__________________________________________________________________________________________________\n",
      "dense_1 (Dense)                 (None, 1)            129         concatenate_1[0][0]              \n",
      "==================================================================================================\n",
      "Total params: 82,305\n",
      "Trainable params: 82,305\n",
      "Non-trainable params: 0\n",
      "__________________________________________________________________________________________________\n"
     ]
    }
   ],
   "source": [
    "model.summary()"
   ]
  },
  {
   "cell_type": "code",
   "execution_count": 4,
   "metadata": {},
   "outputs": [],
   "source": [
    "plot_model(model,to_file=\"model.png\")"
   ]
  },
  {
   "cell_type": "code",
   "execution_count": 5,
   "metadata": {},
   "outputs": [
    {
     "data": {
      "image/png": "[encoded data removed]",
      "text/plain": [
       "<IPython.core.display.Image object>"
      ]
     },
     "execution_count": 5,
     "metadata": {},
     "output_type": "execute_result"
    }
   ],
   "source": [
    "from IPython.display import Image\n",
    "Image(filename='model.png') "
   ]
  },
  {
   "cell_type": "code",
   "execution_count": null,
   "metadata": {},
   "outputs": [],
   "source": []
  }
 ],
 "metadata": {
  "kernelspec": {
   "display_name": "Python 3",
   "language": "python",
   "name": "python3"
  },
  "language_info": {
   "codemirror_mode": {
    "name": "ipython",
    "version": 3
   },
   "file_extension": ".py",
   "mimetype": "text/x-python",
   "name": "python",
   "nbconvert_exporter": "python",
   "pygments_lexer": "ipython3",
   "version": "3.6.6"
  }
 },
 "nbformat": 4,
 "nbformat_minor": 2
}
