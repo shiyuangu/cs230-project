{
 "cells": [
  {
   "cell_type": "code",
   "execution_count": 1,
   "metadata": {},
   "outputs": [],
   "source": [
    "import string\n",
    "from collections import defaultdict\n",
    "import numpy as np \n",
    "import pandas as pd\n",
    "import matplotlib.pyplot as plt\n",
    "import seaborn as sns\n",
    "import gensim.downloader as api\n",
    "import nltk\n",
    "from scipy.spatial.distance import cosine\n",
    "from sklearn.metrics import roc_auc_score, roc_curve\n",
    "%matplotlib inline\n",
    "pal = sns.color_palette()"
   ]
  },
  {
   "cell_type": "code",
   "execution_count": 2,
   "metadata": {},
   "outputs": [],
   "source": [
    "df_train = pd.read_pickle(\"train_pp.pkl\")\n",
    "df_test = pd.read_pickle(\"test_pp.pkl\")"
   ]
  },
  {
   "cell_type": "code",
   "execution_count": 3,
   "metadata": {},
   "outputs": [
    {
     "data": {
      "text/html": [
       "<div>\n",
       "<style scoped>\n",
       "    .dataframe tbody tr th:only-of-type {\n",
       "        vertical-align: middle;\n",
       "    }\n",
       "\n",
       "    .dataframe tbody tr th {\n",
       "        vertical-align: top;\n",
       "    }\n",
       "\n",
       "    .dataframe thead th {\n",
       "        text-align: right;\n",
       "    }\n",
       "</style>\n",
       "<table border=\"1\" class=\"dataframe\">\n",
       "  <thead>\n",
       "    <tr style=\"text-align: right;\">\n",
       "      <th></th>\n",
       "      <th>id</th>\n",
       "      <th>qid1</th>\n",
       "      <th>qid2</th>\n",
       "      <th>question1</th>\n",
       "      <th>question2</th>\n",
       "      <th>is_duplicate</th>\n",
       "      <th>words_1</th>\n",
       "      <th>words_2</th>\n",
       "      <th>end_punc_1</th>\n",
       "      <th>end_punc_2</th>\n",
       "      <th>is_same_end_punc</th>\n",
       "    </tr>\n",
       "  </thead>\n",
       "  <tbody>\n",
       "    <tr>\n",
       "      <th>145367</th>\n",
       "      <td>145367</td>\n",
       "      <td>229850</td>\n",
       "      <td>229851</td>\n",
       "      <td>Is there only one consciousness?</td>\n",
       "      <td>Is consciousness one for everyone?</td>\n",
       "      <td>1</td>\n",
       "      <td>[is, there, only, one, consciousness, ?]</td>\n",
       "      <td>[is, consciousness, one, for, everyone, ?]</td>\n",
       "      <td>?</td>\n",
       "      <td>?</td>\n",
       "      <td>True</td>\n",
       "    </tr>\n",
       "    <tr>\n",
       "      <th>123169</th>\n",
       "      <td>123169</td>\n",
       "      <td>98309</td>\n",
       "      <td>199206</td>\n",
       "      <td>Which is a suitable solar panel installation p...</td>\n",
       "      <td>Which is a suitable solar panel installation p...</td>\n",
       "      <td>0</td>\n",
       "      <td>[which, is, a, suitable, solar, panel, install...</td>\n",
       "      <td>[which, is, a, suitable, solar, panel, install...</td>\n",
       "      <td>?</td>\n",
       "      <td>?</td>\n",
       "      <td>True</td>\n",
       "    </tr>\n",
       "    <tr>\n",
       "      <th>57880</th>\n",
       "      <td>57880</td>\n",
       "      <td>101653</td>\n",
       "      <td>101654</td>\n",
       "      <td>Is there any idea for a new and useful mini pr...</td>\n",
       "      <td>Are there any new topics in computer science t...</td>\n",
       "      <td>0</td>\n",
       "      <td>[is, there, any, idea, for, a, new, and, usefu...</td>\n",
       "      <td>[are, there, any, new, topic, in, computer, sc...</td>\n",
       "      <td>?</td>\n",
       "      <td>?</td>\n",
       "      <td>True</td>\n",
       "    </tr>\n",
       "    <tr>\n",
       "      <th>213043</th>\n",
       "      <td>213043</td>\n",
       "      <td>318261</td>\n",
       "      <td>318262</td>\n",
       "      <td>What does it mean if a girl cries after hurtin...</td>\n",
       "      <td>What does it mean if a girl cries without any ...</td>\n",
       "      <td>0</td>\n",
       "      <td>[what, doe, it, mean, if, a, girl, cry, after,...</td>\n",
       "      <td>[what, doe, it, mean, if, a, girl, cry, withou...</td>\n",
       "      <td>?</td>\n",
       "      <td>?</td>\n",
       "      <td>True</td>\n",
       "    </tr>\n",
       "    <tr>\n",
       "      <th>204901</th>\n",
       "      <td>204901</td>\n",
       "      <td>307914</td>\n",
       "      <td>307915</td>\n",
       "      <td>What are some wholesale drop shippers that hav...</td>\n",
       "      <td>What portrait lenses are compatible with the C...</td>\n",
       "      <td>0</td>\n",
       "      <td>[what, are, some, wholesale, drop, shipper, th...</td>\n",
       "      <td>[what, portrait, lens, are, compatible, with, ...</td>\n",
       "      <td>?</td>\n",
       "      <td>?</td>\n",
       "      <td>True</td>\n",
       "    </tr>\n",
       "  </tbody>\n",
       "</table>\n",
       "</div>"
      ],
      "text/plain": [
       "            id    qid1    qid2  \\\n",
       "145367  145367  229850  229851   \n",
       "123169  123169   98309  199206   \n",
       "57880    57880  101653  101654   \n",
       "213043  213043  318261  318262   \n",
       "204901  204901  307914  307915   \n",
       "\n",
       "                                                question1  \\\n",
       "145367                   Is there only one consciousness?   \n",
       "123169  Which is a suitable solar panel installation p...   \n",
       "57880   Is there any idea for a new and useful mini pr...   \n",
       "213043  What does it mean if a girl cries after hurtin...   \n",
       "204901  What are some wholesale drop shippers that hav...   \n",
       "\n",
       "                                                question2  is_duplicate  \\\n",
       "145367                 Is consciousness one for everyone?             1   \n",
       "123169  Which is a suitable solar panel installation p...             0   \n",
       "57880   Are there any new topics in computer science t...             0   \n",
       "213043  What does it mean if a girl cries without any ...             0   \n",
       "204901  What portrait lenses are compatible with the C...             0   \n",
       "\n",
       "                                                  words_1  \\\n",
       "145367           [is, there, only, one, consciousness, ?]   \n",
       "123169  [which, is, a, suitable, solar, panel, install...   \n",
       "57880   [is, there, any, idea, for, a, new, and, usefu...   \n",
       "213043  [what, doe, it, mean, if, a, girl, cry, after,...   \n",
       "204901  [what, are, some, wholesale, drop, shipper, th...   \n",
       "\n",
       "                                                  words_2 end_punc_1  \\\n",
       "145367         [is, consciousness, one, for, everyone, ?]          ?   \n",
       "123169  [which, is, a, suitable, solar, panel, install...          ?   \n",
       "57880   [are, there, any, new, topic, in, computer, sc...          ?   \n",
       "213043  [what, doe, it, mean, if, a, girl, cry, withou...          ?   \n",
       "204901  [what, portrait, lens, are, compatible, with, ...          ?   \n",
       "\n",
       "       end_punc_2  is_same_end_punc  \n",
       "145367          ?              True  \n",
       "123169          ?              True  \n",
       "57880           ?              True  \n",
       "213043          ?              True  \n",
       "204901          ?              True  "
      ]
     },
     "execution_count": 3,
     "metadata": {},
     "output_type": "execute_result"
    }
   ],
   "source": [
    "df_train.head()"
   ]
  },
  {
   "cell_type": "code",
   "execution_count": 11,
   "metadata": {},
   "outputs": [],
   "source": [
    "s1 = df_train.words_1.str.len()\n",
    "s2 = df_train.words_2.str.len()\n",
    "qlen_train = np.hstack([s1,s2])  \n",
    "s1 = df_test.words_1.str.len()\n",
    "s2 = df_test.words_2.str.len()\n",
    "qlen_test = np.hstack([s1,s2])  "
   ]
  },
  {
   "cell_type": "code",
   "execution_count": 14,
   "metadata": {},
   "outputs": [
    {
     "data": {
      "image/png": "[encoded data removed]",
      "text/plain": [
       "<Figure size 1080x720 with 1 Axes>"
      ]
     },
     "metadata": {
      "needs_background": "light"
     },
     "output_type": "display_data"
    }
   ],
   "source": [
    "plt.figure(figsize=(15, 10))\n",
    "plt.hist(qlen_train, bins=200, color=pal[2], normed=True, label='train')\n",
    "plt.hist(qlen_test, bins=200, color=pal[1], normed=True, alpha=0.5, label='test')\n",
    "plt.show()"
   ]
  },
  {
   "cell_type": "code",
   "execution_count": null,
   "metadata": {},
   "outputs": [],
   "source": []
  }
 ],
 "metadata": {
  "kernelspec": {
   "display_name": "Python 3",
   "language": "python",
   "name": "python3"
  },
  "language_info": {
   "codemirror_mode": {
    "name": "ipython",
    "version": 3
   },
   "file_extension": ".py",
   "mimetype": "text/x-python",
   "name": "python",
   "nbconvert_exporter": "python",
   "pygments_lexer": "ipython3",
   "version": "3.6.6"
  }
 },
 "nbformat": 4,
 "nbformat_minor": 2
}
