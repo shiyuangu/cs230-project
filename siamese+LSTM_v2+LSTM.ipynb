{
 "cells": [
  {
   "cell_type": "code",
   "execution_count": 1,
   "metadata": {},
   "outputs": [
    {
     "name": "stderr",
     "output_type": "stream",
     "text": [
      "Using TensorFlow backend.\n"
     ]
    }
   ],
   "source": [
    "#compare to siamese+LSTM_v1, weights for word is now trainable(extention to tfidf)\n",
    "import numpy as np \n",
    "import pandas as pd\n",
    "from sklearn.metrics import roc_auc_score, roc_curve, accuracy_score\n",
    "from sklearn.utils import shuffle \n",
    "import keras\n",
    "from keras.layers import Input, LSTM, Dense,Lambda\n",
    "from keras.models import Model\n",
    "from keras.utils import plot_model\n",
    "from keras.layers.embeddings import Embedding\n",
    "from keras import backend as K\n",
    "from keras.layers import multiply\n",
    "from keras.callbacks import EarlyStopping\n",
    "from matplotlib import pyplot as plt\n",
    "import gensim.downloader as api\n",
    "from gensim.models import Word2Vec\n",
    "from gensim.models.keyedvectors import Word2VecKeyedVectors"
   ]
  },
  {
   "cell_type": "code",
   "execution_count": 2,
   "metadata": {},
   "outputs": [],
   "source": [
    "import tensorflow as tf\n",
    "sess = tf.Session(config=tf.ConfigProto(log_device_placement=True))\n",
    "\n",
    "from keras import backend as K\n",
    "K.set_session(sess)"
   ]
  },
  {
   "cell_type": "code",
   "execution_count": 3,
   "metadata": {},
   "outputs": [],
   "source": [
    "#use pre-trained:'Wikipedia 2014 + Gigaword 5 (6B tokens, uncased)'\n",
    "#vocab: 400K\n",
    "# api.info(\"glove-wiki-gigaword-100\")\n",
    "#word_vectors = api.load(\"glove-wiki-gigaword-100\")\n",
    "#word_vectors.save(\"glove-wiki-gigaword-100.model\")\n",
    "word_vectors = Word2VecKeyedVectors.load(\"glove-wiki-gigaword-100.model\")"
   ]
  },
  {
   "cell_type": "code",
   "execution_count": 4,
   "metadata": {},
   "outputs": [],
   "source": [
    "#define the model \n",
    "max_qlen = 50 #Truncate if longer\n",
    "vocab_len = len(word_vectors.vocab)+1\n",
    "wv_len = word_vectors.get_vector(\"the\").shape[0]"
   ]
  },
  {
   "cell_type": "code",
   "execution_count": 5,
   "metadata": {},
   "outputs": [],
   "source": [
    "df_train = pd.read_pickle(\"train_pp.pkl\")\n",
    "df_test = pd.read_pickle(\"test_pp.pkl\")"
   ]
  },
  {
   "cell_type": "code",
   "execution_count": 6,
   "metadata": {},
   "outputs": [
    {
     "data": {
      "text/html": [
       "<div>\n",
       "<style scoped>\n",
       "    .dataframe tbody tr th:only-of-type {\n",
       "        vertical-align: middle;\n",
       "    }\n",
       "\n",
       "    .dataframe tbody tr th {\n",
       "        vertical-align: top;\n",
       "    }\n",
       "\n",
       "    .dataframe thead th {\n",
       "        text-align: right;\n",
       "    }\n",
       "</style>\n",
       "<table border=\"1\" class=\"dataframe\">\n",
       "  <thead>\n",
       "    <tr style=\"text-align: right;\">\n",
       "      <th></th>\n",
       "      <th>id</th>\n",
       "      <th>qid1</th>\n",
       "      <th>qid2</th>\n",
       "      <th>question1</th>\n",
       "      <th>question2</th>\n",
       "      <th>is_duplicate</th>\n",
       "      <th>words_1</th>\n",
       "      <th>words_2</th>\n",
       "      <th>end_punc_1</th>\n",
       "      <th>end_punc_2</th>\n",
       "      <th>is_same_end_punc</th>\n",
       "    </tr>\n",
       "  </thead>\n",
       "  <tbody>\n",
       "    <tr>\n",
       "      <th>145367</th>\n",
       "      <td>145367</td>\n",
       "      <td>229850</td>\n",
       "      <td>229851</td>\n",
       "      <td>Is there only one consciousness?</td>\n",
       "      <td>Is consciousness one for everyone?</td>\n",
       "      <td>1</td>\n",
       "      <td>[is, there, only, one, consciousness, ?]</td>\n",
       "      <td>[is, consciousness, one, for, everyone, ?]</td>\n",
       "      <td>?</td>\n",
       "      <td>?</td>\n",
       "      <td>True</td>\n",
       "    </tr>\n",
       "    <tr>\n",
       "      <th>123169</th>\n",
       "      <td>123169</td>\n",
       "      <td>98309</td>\n",
       "      <td>199206</td>\n",
       "      <td>Which is a suitable solar panel installation p...</td>\n",
       "      <td>Which is a suitable solar panel installation p...</td>\n",
       "      <td>0</td>\n",
       "      <td>[which, is, a, suitable, solar, panel, install...</td>\n",
       "      <td>[which, is, a, suitable, solar, panel, install...</td>\n",
       "      <td>?</td>\n",
       "      <td>?</td>\n",
       "      <td>True</td>\n",
       "    </tr>\n",
       "    <tr>\n",
       "      <th>57880</th>\n",
       "      <td>57880</td>\n",
       "      <td>101653</td>\n",
       "      <td>101654</td>\n",
       "      <td>Is there any idea for a new and useful mini pr...</td>\n",
       "      <td>Are there any new topics in computer science t...</td>\n",
       "      <td>0</td>\n",
       "      <td>[is, there, any, idea, for, a, new, and, usefu...</td>\n",
       "      <td>[are, there, any, new, topic, in, computer, sc...</td>\n",
       "      <td>?</td>\n",
       "      <td>?</td>\n",
       "      <td>True</td>\n",
       "    </tr>\n",
       "    <tr>\n",
       "      <th>213043</th>\n",
       "      <td>213043</td>\n",
       "      <td>318261</td>\n",
       "      <td>318262</td>\n",
       "      <td>What does it mean if a girl cries after hurtin...</td>\n",
       "      <td>What does it mean if a girl cries without any ...</td>\n",
       "      <td>0</td>\n",
       "      <td>[what, doe, it, mean, if, a, girl, cry, after,...</td>\n",
       "      <td>[what, doe, it, mean, if, a, girl, cry, withou...</td>\n",
       "      <td>?</td>\n",
       "      <td>?</td>\n",
       "      <td>True</td>\n",
       "    </tr>\n",
       "    <tr>\n",
       "      <th>204901</th>\n",
       "      <td>204901</td>\n",
       "      <td>307914</td>\n",
       "      <td>307915</td>\n",
       "      <td>What are some wholesale drop shippers that hav...</td>\n",
       "      <td>What portrait lenses are compatible with the C...</td>\n",
       "      <td>0</td>\n",
       "      <td>[what, are, some, wholesale, drop, shipper, th...</td>\n",
       "      <td>[what, portrait, lens, are, compatible, with, ...</td>\n",
       "      <td>?</td>\n",
       "      <td>?</td>\n",
       "      <td>True</td>\n",
       "    </tr>\n",
       "  </tbody>\n",
       "</table>\n",
       "</div>"
      ],
      "text/plain": [
       "            id    qid1    qid2  \\\n",
       "145367  145367  229850  229851   \n",
       "123169  123169   98309  199206   \n",
       "57880    57880  101653  101654   \n",
       "213043  213043  318261  318262   \n",
       "204901  204901  307914  307915   \n",
       "\n",
       "                                                question1  \\\n",
       "145367                   Is there only one consciousness?   \n",
       "123169  Which is a suitable solar panel installation p...   \n",
       "57880   Is there any idea for a new and useful mini pr...   \n",
       "213043  What does it mean if a girl cries after hurtin...   \n",
       "204901  What are some wholesale drop shippers that hav...   \n",
       "\n",
       "                                                question2  is_duplicate  \\\n",
       "145367                 Is consciousness one for everyone?             1   \n",
       "123169  Which is a suitable solar panel installation p...             0   \n",
       "57880   Are there any new topics in computer science t...             0   \n",
       "213043  What does it mean if a girl cries without any ...             0   \n",
       "204901  What portrait lenses are compatible with the C...             0   \n",
       "\n",
       "                                                  words_1  \\\n",
       "145367           [is, there, only, one, consciousness, ?]   \n",
       "123169  [which, is, a, suitable, solar, panel, install...   \n",
       "57880   [is, there, any, idea, for, a, new, and, usefu...   \n",
       "213043  [what, doe, it, mean, if, a, girl, cry, after,...   \n",
       "204901  [what, are, some, wholesale, drop, shipper, th...   \n",
       "\n",
       "                                                  words_2 end_punc_1  \\\n",
       "145367         [is, consciousness, one, for, everyone, ?]          ?   \n",
       "123169  [which, is, a, suitable, solar, panel, install...          ?   \n",
       "57880   [are, there, any, new, topic, in, computer, sc...          ?   \n",
       "213043  [what, doe, it, mean, if, a, girl, cry, withou...          ?   \n",
       "204901  [what, portrait, lens, are, compatible, with, ...          ?   \n",
       "\n",
       "       end_punc_2  is_same_end_punc  \n",
       "145367          ?              True  \n",
       "123169          ?              True  \n",
       "57880           ?              True  \n",
       "213043          ?              True  \n",
       "204901          ?              True  "
      ]
     },
     "execution_count": 6,
     "metadata": {},
     "output_type": "execute_result"
    }
   ],
   "source": [
    "df_train.head()"
   ]
  },
  {
   "cell_type": "code",
   "execution_count": 7,
   "metadata": {},
   "outputs": [],
   "source": [
    "def words2ints(words,max_len):\n",
    "    \"\"\"\n",
    "    turn a list words to their word indices; padd or truncate to  max_len;\n",
    "    @params words: List[str]\n",
    "    return List[int]\n",
    "    \"\"\"\n",
    "    rv = np.zeros((max_len,))\n",
    "    for i,w in enumerate(words[:max_len]): \n",
    "        if w in word_vectors.vocab: \n",
    "            rv[i]=word_vectors.vocab[w].index + 1 #Don't forget to shift since keras use 0 for OOV \n",
    "        else: \n",
    "            rv[i]=0 \n",
    "    return rv "
   ]
  },
  {
   "cell_type": "code",
   "execution_count": 8,
   "metadata": {},
   "outputs": [],
   "source": [
    "df_train['q1_indices'] = df_train['words_1'].apply(lambda x: words2ints(x,max_qlen))\n",
    "df_train['q2_indices'] = df_train['words_2'].apply(lambda x: words2ints(x,max_qlen))\n",
    "df_test['q1_indices'] = df_test['words_1'].apply(lambda x: words2ints(x,max_qlen))\n",
    "df_test['q2_indices'] = df_test['words_2'].apply(lambda x: words2ints(x,max_qlen))\n"
   ]
  },
  {
   "cell_type": "code",
   "execution_count": 9,
   "metadata": {},
   "outputs": [
    {
     "data": {
      "text/html": [
       "<div>\n",
       "<style scoped>\n",
       "    .dataframe tbody tr th:only-of-type {\n",
       "        vertical-align: middle;\n",
       "    }\n",
       "\n",
       "    .dataframe tbody tr th {\n",
       "        vertical-align: top;\n",
       "    }\n",
       "\n",
       "    .dataframe thead th {\n",
       "        text-align: right;\n",
       "    }\n",
       "</style>\n",
       "<table border=\"1\" class=\"dataframe\">\n",
       "  <thead>\n",
       "    <tr style=\"text-align: right;\">\n",
       "      <th></th>\n",
       "      <th>id</th>\n",
       "      <th>qid1</th>\n",
       "      <th>qid2</th>\n",
       "      <th>question1</th>\n",
       "      <th>question2</th>\n",
       "      <th>is_duplicate</th>\n",
       "      <th>words_1</th>\n",
       "      <th>words_2</th>\n",
       "      <th>end_punc_1</th>\n",
       "      <th>end_punc_2</th>\n",
       "      <th>is_same_end_punc</th>\n",
       "      <th>q1_indices</th>\n",
       "      <th>q2_indices</th>\n",
       "    </tr>\n",
       "  </thead>\n",
       "  <tbody>\n",
       "    <tr>\n",
       "      <th>145367</th>\n",
       "      <td>145367</td>\n",
       "      <td>229850</td>\n",
       "      <td>229851</td>\n",
       "      <td>Is there only one consciousness?</td>\n",
       "      <td>Is consciousness one for everyone?</td>\n",
       "      <td>1</td>\n",
       "      <td>[is, there, only, one, consciousness, ?]</td>\n",
       "      <td>[is, consciousness, one, for, everyone, ?]</td>\n",
       "      <td>?</td>\n",
       "      <td>?</td>\n",
       "      <td>True</td>\n",
       "      <td>[15.0, 64.0, 92.0, 49.0, 8658.0, 189.0, 0.0, 0...</td>\n",
       "      <td>[15.0, 8658.0, 49.0, 11.0, 1403.0, 189.0, 0.0,...</td>\n",
       "    </tr>\n",
       "    <tr>\n",
       "      <th>123169</th>\n",
       "      <td>123169</td>\n",
       "      <td>98309</td>\n",
       "      <td>199206</td>\n",
       "      <td>Which is a suitable solar panel installation p...</td>\n",
       "      <td>Which is a suitable solar panel installation p...</td>\n",
       "      <td>0</td>\n",
       "      <td>[which, is, a, suitable, solar, panel, install...</td>\n",
       "      <td>[which, is, a, suitable, solar, panel, install...</td>\n",
       "      <td>?</td>\n",
       "      <td>?</td>\n",
       "      <td>True</td>\n",
       "      <td>[43.0, 15.0, 8.0, 7089.0, 4709.0, 1909.0, 7389...</td>\n",
       "      <td>[43.0, 15.0, 8.0, 7089.0, 4709.0, 1909.0, 7389...</td>\n",
       "    </tr>\n",
       "    <tr>\n",
       "      <th>57880</th>\n",
       "      <td>57880</td>\n",
       "      <td>101653</td>\n",
       "      <td>101654</td>\n",
       "      <td>Is there any idea for a new and useful mini pr...</td>\n",
       "      <td>Are there any new topics in computer science t...</td>\n",
       "      <td>0</td>\n",
       "      <td>[is, there, any, idea, for, a, new, and, usefu...</td>\n",
       "      <td>[are, there, any, new, topic, in, computer, sc...</td>\n",
       "      <td>?</td>\n",
       "      <td>?</td>\n",
       "      <td>True</td>\n",
       "      <td>[15.0, 64.0, 131.0, 1160.0, 11.0, 8.0, 51.0, 6...</td>\n",
       "      <td>[33.0, 64.0, 131.0, 51.0, 6284.0, 7.0, 952.0, ...</td>\n",
       "    </tr>\n",
       "    <tr>\n",
       "      <th>213043</th>\n",
       "      <td>213043</td>\n",
       "      <td>318261</td>\n",
       "      <td>318262</td>\n",
       "      <td>What does it mean if a girl cries after hurtin...</td>\n",
       "      <td>What does it mean if a girl cries without any ...</td>\n",
       "      <td>0</td>\n",
       "      <td>[what, doe, it, mean, if, a, girl, cry, after,...</td>\n",
       "      <td>[what, doe, it, mean, if, a, girl, cry, withou...</td>\n",
       "      <td>?</td>\n",
       "      <td>?</td>\n",
       "      <td>True</td>\n",
       "      <td>[103.0, 14220.0, 21.0, 1703.0, 84.0, 8.0, 1750...</td>\n",
       "      <td>[103.0, 14220.0, 21.0, 1703.0, 84.0, 8.0, 1750...</td>\n",
       "    </tr>\n",
       "    <tr>\n",
       "      <th>204901</th>\n",
       "      <td>204901</td>\n",
       "      <td>307914</td>\n",
       "      <td>307915</td>\n",
       "      <td>What are some wholesale drop shippers that hav...</td>\n",
       "      <td>What portrait lenses are compatible with the C...</td>\n",
       "      <td>0</td>\n",
       "      <td>[what, are, some, wholesale, drop, shipper, th...</td>\n",
       "      <td>[what, portrait, lens, are, compatible, with, ...</td>\n",
       "      <td>?</td>\n",
       "      <td>?</td>\n",
       "      <td>True</td>\n",
       "      <td>[103.0, 33.0, 78.0, 7531.0, 1561.0, 59002.0, 1...</td>\n",
       "      <td>[103.0, 6034.0, 9025.0, 33.0, 11631.0, 18.0, 1...</td>\n",
       "    </tr>\n",
       "  </tbody>\n",
       "</table>\n",
       "</div>"
      ],
      "text/plain": [
       "            id    qid1    qid2  \\\n",
       "145367  145367  229850  229851   \n",
       "123169  123169   98309  199206   \n",
       "57880    57880  101653  101654   \n",
       "213043  213043  318261  318262   \n",
       "204901  204901  307914  307915   \n",
       "\n",
       "                                                question1  \\\n",
       "145367                   Is there only one consciousness?   \n",
       "123169  Which is a suitable solar panel installation p...   \n",
       "57880   Is there any idea for a new and useful mini pr...   \n",
       "213043  What does it mean if a girl cries after hurtin...   \n",
       "204901  What are some wholesale drop shippers that hav...   \n",
       "\n",
       "                                                question2  is_duplicate  \\\n",
       "145367                 Is consciousness one for everyone?             1   \n",
       "123169  Which is a suitable solar panel installation p...             0   \n",
       "57880   Are there any new topics in computer science t...             0   \n",
       "213043  What does it mean if a girl cries without any ...             0   \n",
       "204901  What portrait lenses are compatible with the C...             0   \n",
       "\n",
       "                                                  words_1  \\\n",
       "145367           [is, there, only, one, consciousness, ?]   \n",
       "123169  [which, is, a, suitable, solar, panel, install...   \n",
       "57880   [is, there, any, idea, for, a, new, and, usefu...   \n",
       "213043  [what, doe, it, mean, if, a, girl, cry, after,...   \n",
       "204901  [what, are, some, wholesale, drop, shipper, th...   \n",
       "\n",
       "                                                  words_2 end_punc_1  \\\n",
       "145367         [is, consciousness, one, for, everyone, ?]          ?   \n",
       "123169  [which, is, a, suitable, solar, panel, install...          ?   \n",
       "57880   [are, there, any, new, topic, in, computer, sc...          ?   \n",
       "213043  [what, doe, it, mean, if, a, girl, cry, withou...          ?   \n",
       "204901  [what, portrait, lens, are, compatible, with, ...          ?   \n",
       "\n",
       "       end_punc_2  is_same_end_punc  \\\n",
       "145367          ?              True   \n",
       "123169          ?              True   \n",
       "57880           ?              True   \n",
       "213043          ?              True   \n",
       "204901          ?              True   \n",
       "\n",
       "                                               q1_indices  \\\n",
       "145367  [15.0, 64.0, 92.0, 49.0, 8658.0, 189.0, 0.0, 0...   \n",
       "123169  [43.0, 15.0, 8.0, 7089.0, 4709.0, 1909.0, 7389...   \n",
       "57880   [15.0, 64.0, 131.0, 1160.0, 11.0, 8.0, 51.0, 6...   \n",
       "213043  [103.0, 14220.0, 21.0, 1703.0, 84.0, 8.0, 1750...   \n",
       "204901  [103.0, 33.0, 78.0, 7531.0, 1561.0, 59002.0, 1...   \n",
       "\n",
       "                                               q2_indices  \n",
       "145367  [15.0, 8658.0, 49.0, 11.0, 1403.0, 189.0, 0.0,...  \n",
       "123169  [43.0, 15.0, 8.0, 7089.0, 4709.0, 1909.0, 7389...  \n",
       "57880   [33.0, 64.0, 131.0, 51.0, 6284.0, 7.0, 952.0, ...  \n",
       "213043  [103.0, 14220.0, 21.0, 1703.0, 84.0, 8.0, 1750...  \n",
       "204901  [103.0, 6034.0, 9025.0, 33.0, 11631.0, 18.0, 1...  "
      ]
     },
     "execution_count": 9,
     "metadata": {},
     "output_type": "execute_result"
    }
   ],
   "source": [
    "df_train.head()"
   ]
  },
  {
   "cell_type": "code",
   "execution_count": 10,
   "metadata": {},
   "outputs": [],
   "source": [
    "q1_seq_train = np.vstack(df_train.q1_indices.values)\n",
    "q2_seq_train = np.vstack(df_train.q2_indices.values)\n",
    "q1_seq_test = np.vstack(df_test.q1_indices.values)\n",
    "q2_seq_test = np.vstack(df_test.q2_indices.values)\n",
    "y_train = df_train.is_duplicate.values\n",
    "y_test = df_test.is_duplicate.values"
   ]
  },
  {
   "cell_type": "code",
   "execution_count": 11,
   "metadata": {},
   "outputs": [
    {
     "data": {
      "text/plain": [
       "((323432, 50), (323432, 50), (323432,))"
      ]
     },
     "execution_count": 11,
     "metadata": {},
     "output_type": "execute_result"
    }
   ],
   "source": [
    "q1_seq_train.shape, q2_seq_train.shape, y_train.shape"
   ]
  },
  {
   "cell_type": "code",
   "execution_count": 12,
   "metadata": {},
   "outputs": [
    {
     "data": {
      "text/plain": [
       "((323432, 13), (80858, 13))"
      ]
     },
     "execution_count": 12,
     "metadata": {},
     "output_type": "execute_result"
    }
   ],
   "source": [
    "df_train.shape,df_test.shape"
   ]
  },
  {
   "cell_type": "code",
   "execution_count": 13,
   "metadata": {},
   "outputs": [],
   "source": [
    "#embedding = word_vectors.get_keras_embedding() #Don't use this, gensim doesn't consider OOV https://github.com/RaRe-Technologies/gensim/blob/2ccc82bf50bcfbee44932c160db076a873cf893e/gensim/models/keyedvectors.py#L1491\n",
    "embd_weights = np.zeros((vocab_len,wv_len))\n",
    "embd_weights[1:,:] = word_vectors.vectors\n"
   ]
  },
  {
   "cell_type": "code",
   "execution_count": 14,
   "metadata": {},
   "outputs": [],
   "source": [
    "#define the model \n",
    "word2vec_layer = Embedding(vocab_len, wv_len, trainable=False,weights=[embd_weights],name=\"word2vec\") #check this Emoji and gensim set the weight in different ways\n",
    "get_word_weight_layer = Embedding(vocab_len, 1, trainable=True,weights=[np.ones((vocab_len,1))], activity_regularizer=None, name=\"get_word_weight\") #generalize tf-idf\n",
    "#reduce_layer = Lambda(lambda x: K.sum(x, axis=1), output_shape=lambda s: (s[0], s[2]),name=\"vector_reduction\")\n",
    "#get_word_weight_layer = Embedding(vocab_len, 1, trainable=True,name=\"get_word_weight\") #generalize tf-idf\n",
    "lstm1_layer = LSTM(100,name=\"lstm_1\",return_sequences=True)\n",
    "lstm2_layer = LSTM(100,name=\"lstm_2\")\n",
    "\n",
    "q1 = Input(shape=(max_qlen,),name=\"question_1\")\n",
    "q2 = Input(shape=(max_qlen,),name=\"question_2\")\n",
    "\n",
    "q1_wv,q2_wv = map(word2vec_layer,[q1,q2])\n",
    "q1_ww,q2_ww = map(get_word_weight_layer,[q1,q2])\n",
    "q1_wv_ww,q2_wv_ww = map(multiply, [[q1_wv,q1_ww], [q2_wv,q2_ww]])\n",
    "q1_lstm1_out, q2_lstm1_out = map(lstm1_layer, [q1_wv_ww,q2_wv_ww])\n",
    "q1_final_vec, q2_final_vec = map(lstm2_layer, [q1_lstm1_out, q2_lstm1_out])\n",
    "\n",
    "\n",
    "merged_vector = keras.layers.concatenate([q1_final_vec, q2_final_vec], axis=-1,name=\"merge\")\n",
    "predictions = Dense(1, activation='sigmoid',name=\"sigmoid\")(merged_vector)\n",
    "model = Model(inputs=[q1, q2], outputs=predictions)\n",
    "\n",
    "model.compile(optimizer='adam',\n",
    "              loss='binary_crossentropy',\n",
    "              metrics=['accuracy'])"
   ]
  },
  {
   "cell_type": "code",
   "execution_count": 15,
   "metadata": {},
   "outputs": [
    {
     "name": "stdout",
     "output_type": "stream",
     "text": [
      "Train on 291088 samples, validate on 32344 samples\n",
      "Epoch 1/100\n",
      "291088/291088 [==============================] - 18s 62us/step - loss: 0.6461 - acc: 0.6305 - val_loss: 0.6298 - val_acc: 0.6360\n",
      "Epoch 2/100\n",
      "291088/291088 [==============================] - 15s 53us/step - loss: 0.6201 - acc: 0.6401 - val_loss: 0.5999 - val_acc: 0.6776\n",
      "Epoch 3/100\n",
      "291088/291088 [==============================] - 15s 53us/step - loss: 0.5920 - acc: 0.6837 - val_loss: 0.5772 - val_acc: 0.6965\n",
      "Epoch 4/100\n",
      "291088/291088 [==============================] - 15s 53us/step - loss: 0.5747 - acc: 0.6990 - val_loss: 0.5612 - val_acc: 0.7108\n",
      "Epoch 5/100\n",
      "291088/291088 [==============================] - 15s 53us/step - loss: 0.5595 - acc: 0.7129 - val_loss: 0.5492 - val_acc: 0.7213\n",
      "Epoch 6/100\n",
      "291088/291088 [==============================] - 15s 53us/step - loss: 0.5501 - acc: 0.7203 - val_loss: 0.5467 - val_acc: 0.7216\n",
      "Epoch 7/100\n",
      "291088/291088 [==============================] - 15s 53us/step - loss: 0.5420 - acc: 0.7276 - val_loss: 0.5350 - val_acc: 0.7319\n",
      "Epoch 8/100\n",
      "291088/291088 [==============================] - 15s 53us/step - loss: 0.5379 - acc: 0.7303 - val_loss: 0.5316 - val_acc: 0.7364\n",
      "Epoch 9/100\n",
      "291088/291088 [==============================] - 15s 53us/step - loss: 0.5293 - acc: 0.7374 - val_loss: 0.5261 - val_acc: 0.7398\n",
      "Epoch 10/100\n",
      "291088/291088 [==============================] - 15s 53us/step - loss: 0.5263 - acc: 0.7394 - val_loss: 0.5203 - val_acc: 0.7432\n",
      "Epoch 11/100\n",
      "291088/291088 [==============================] - 15s 53us/step - loss: 0.5215 - acc: 0.7426 - val_loss: 0.5218 - val_acc: 0.7411\n",
      "Epoch 12/100\n",
      "291088/291088 [==============================] - 15s 53us/step - loss: 0.5155 - acc: 0.7472 - val_loss: 0.5134 - val_acc: 0.7479\n",
      "Epoch 13/100\n",
      "291088/291088 [==============================] - 15s 53us/step - loss: 0.5149 - acc: 0.7470 - val_loss: 0.5343 - val_acc: 0.7319\n",
      "Epoch 14/100\n",
      "291088/291088 [==============================] - 15s 53us/step - loss: 0.5111 - acc: 0.7497 - val_loss: 0.5085 - val_acc: 0.7500\n",
      "Epoch 15/100\n",
      "291088/291088 [==============================] - 15s 53us/step - loss: 0.5035 - acc: 0.7548 - val_loss: 0.5078 - val_acc: 0.7502\n",
      "Epoch 16/100\n",
      "291088/291088 [==============================] - 15s 53us/step - loss: 0.5011 - acc: 0.7564 - val_loss: 0.5066 - val_acc: 0.7541\n",
      "Epoch 17/100\n",
      "291088/291088 [==============================] - 15s 53us/step - loss: 0.5017 - acc: 0.7556 - val_loss: 0.5165 - val_acc: 0.7419\n",
      "Epoch 18/100\n",
      "291088/291088 [==============================] - 15s 53us/step - loss: 0.4990 - acc: 0.7578 - val_loss: 0.5022 - val_acc: 0.7552\n",
      "Epoch 19/100\n",
      "291088/291088 [==============================] - 15s 53us/step - loss: 0.4930 - acc: 0.7614 - val_loss: 0.4998 - val_acc: 0.7566\n",
      "Epoch 20/100\n",
      "291088/291088 [==============================] - 15s 53us/step - loss: 0.4937 - acc: 0.7612 - val_loss: 0.4992 - val_acc: 0.7593\n",
      "Epoch 21/100\n",
      "291088/291088 [==============================] - 15s 53us/step - loss: 0.4867 - acc: 0.7658 - val_loss: 0.5064 - val_acc: 0.7519\n",
      "Epoch 22/100\n",
      "291088/291088 [==============================] - 15s 53us/step - loss: 0.4886 - acc: 0.7641 - val_loss: 0.4952 - val_acc: 0.7609\n",
      "Epoch 23/100\n",
      "291088/291088 [==============================] - 15s 53us/step - loss: 0.4835 - acc: 0.7676 - val_loss: 0.4938 - val_acc: 0.7602\n",
      "Epoch 24/100\n",
      "291088/291088 [==============================] - 15s 53us/step - loss: 0.4796 - acc: 0.7700 - val_loss: 0.4942 - val_acc: 0.7622\n",
      "Epoch 25/100\n",
      "291088/291088 [==============================] - 15s 53us/step - loss: 0.4792 - acc: 0.7705 - val_loss: 0.4938 - val_acc: 0.7618\n",
      "Epoch 26/100\n",
      "291088/291088 [==============================] - 15s 53us/step - loss: 0.4736 - acc: 0.7738 - val_loss: 0.4917 - val_acc: 0.7634\n",
      "Epoch 27/100\n",
      "291088/291088 [==============================] - 15s 53us/step - loss: 0.4717 - acc: 0.7751 - val_loss: 0.4968 - val_acc: 0.7547\n",
      "Epoch 28/100\n",
      "291088/291088 [==============================] - 15s 53us/step - loss: 0.4703 - acc: 0.7754 - val_loss: 0.4952 - val_acc: 0.7570\n",
      "Epoch 29/100\n",
      "291088/291088 [==============================] - 15s 53us/step - loss: 0.4691 - acc: 0.7760 - val_loss: 0.4879 - val_acc: 0.7656\n",
      "Epoch 30/100\n",
      "291088/291088 [==============================] - 15s 53us/step - loss: 0.4639 - acc: 0.7797 - val_loss: 0.4911 - val_acc: 0.7610\n",
      "Epoch 31/100\n",
      "291088/291088 [==============================] - 15s 53us/step - loss: 0.4620 - acc: 0.7813 - val_loss: 0.4859 - val_acc: 0.7680\n",
      "Epoch 32/100\n",
      "291088/291088 [==============================] - 15s 53us/step - loss: 0.4609 - acc: 0.7808 - val_loss: 0.4948 - val_acc: 0.7669\n",
      "Epoch 33/100\n",
      "291088/291088 [==============================] - 15s 53us/step - loss: 0.4606 - acc: 0.7816 - val_loss: 0.4867 - val_acc: 0.7678\n",
      "Epoch 34/100\n",
      "291088/291088 [==============================] - 15s 53us/step - loss: 0.4541 - acc: 0.7850 - val_loss: 0.4953 - val_acc: 0.7579\n",
      "Epoch 35/100\n",
      "291088/291088 [==============================] - 15s 53us/step - loss: 0.4575 - acc: 0.7830 - val_loss: 0.4863 - val_acc: 0.7686\n",
      "Epoch 36/100\n",
      "291088/291088 [==============================] - 15s 53us/step - loss: 0.4494 - acc: 0.7883 - val_loss: 0.4845 - val_acc: 0.7697\n",
      "Epoch 37/100\n",
      "291088/291088 [==============================] - 15s 53us/step - loss: 0.4512 - acc: 0.7868 - val_loss: 0.4906 - val_acc: 0.7652\n",
      "Epoch 38/100\n",
      "291088/291088 [==============================] - 15s 53us/step - loss: 0.4457 - acc: 0.7899 - val_loss: 0.4943 - val_acc: 0.7609\n",
      "Epoch 39/100\n",
      "291088/291088 [==============================] - 15s 53us/step - loss: 0.4484 - acc: 0.7886 - val_loss: 0.4858 - val_acc: 0.7687\n",
      "Epoch 40/100\n",
      "291088/291088 [==============================] - 15s 53us/step - loss: 0.4421 - acc: 0.7918 - val_loss: 0.5057 - val_acc: 0.7489\n",
      "Epoch 41/100\n",
      "291088/291088 [==============================] - 15s 53us/step - loss: 0.4394 - acc: 0.7928 - val_loss: 0.4932 - val_acc: 0.7635\n",
      "Epoch 42/100\n",
      "291088/291088 [==============================] - 15s 53us/step - loss: 0.4367 - acc: 0.7948 - val_loss: 0.4823 - val_acc: 0.7708\n",
      "Epoch 43/100\n",
      "291088/291088 [==============================] - 15s 53us/step - loss: 0.4393 - acc: 0.7936 - val_loss: 0.4824 - val_acc: 0.7702\n",
      "Epoch 44/100\n",
      "291088/291088 [==============================] - 15s 53us/step - loss: 0.4344 - acc: 0.7960 - val_loss: 0.4931 - val_acc: 0.7656\n",
      "Epoch 45/100\n",
      "291088/291088 [==============================] - 15s 53us/step - loss: 0.4305 - acc: 0.7979 - val_loss: 0.4925 - val_acc: 0.7740\n",
      "Epoch 46/100\n",
      "291088/291088 [==============================] - 15s 53us/step - loss: 0.4284 - acc: 0.7991 - val_loss: 0.5022 - val_acc: 0.7633\n",
      "Epoch 47/100\n",
      "291088/291088 [==============================] - 15s 53us/step - loss: 0.4259 - acc: 0.8004 - val_loss: 0.4857 - val_acc: 0.7730\n",
      "Epoch 48/100\n",
      "291088/291088 [==============================] - 15s 53us/step - loss: 0.4223 - acc: 0.8022 - val_loss: 0.4876 - val_acc: 0.7698\n",
      "Epoch 49/100\n",
      "291088/291088 [==============================] - 15s 53us/step - loss: 0.4216 - acc: 0.8020 - val_loss: 0.4940 - val_acc: 0.7657\n",
      "Epoch 50/100\n",
      "291088/291088 [==============================] - 15s 53us/step - loss: 0.4181 - acc: 0.8041 - val_loss: 0.4866 - val_acc: 0.7736\n",
      "Epoch 51/100\n",
      "291088/291088 [==============================] - 15s 53us/step - loss: 0.4169 - acc: 0.8047 - val_loss: 0.4910 - val_acc: 0.7734\n",
      "Epoch 52/100\n",
      "291088/291088 [==============================] - 15s 53us/step - loss: 0.4128 - acc: 0.8063 - val_loss: 0.4922 - val_acc: 0.7741\n"
     ]
    },
    {
     "data": {
      "text/plain": [
       "<keras.callbacks.History at 0x7f0c97d243c8>"
      ]
     },
     "execution_count": 15,
     "metadata": {},
     "output_type": "execute_result"
    }
   ],
   "source": [
    "callbacks = [EarlyStopping(monitor='val_loss', patience=10, restore_best_weights=True)]\n",
    "# model.fit([q1_seq_train,q2_seq_train], y_train, epochs = 100, batch_size = 8192, shuffle=True,\n",
    "#          validation_data=([q1_seq_test,q2_seq_test],y_test),\n",
    "#          callbacks=callbacks) #100 epoches in total\n",
    "q1_seq_train,q2_seq_train, y_train = shuffle(q1_seq_train,q2_seq_train, y_train, random_state=4)\n",
    "model.fit([q1_seq_train,q2_seq_train], y_train, epochs = 100, batch_size = 8192, shuffle=True,\n",
    "         validation_split=0.1,\n",
    "        callbacks=callbacks) #100 epoches in total"
   ]
  },
  {
   "cell_type": "code",
   "execution_count": 16,
   "metadata": {},
   "outputs": [],
   "source": [
    "y_pred_test = model.predict([q1_seq_test,q2_seq_test],batch_size = 8192)\n",
    "y_pred_train = model.predict([q1_seq_train,q2_seq_train],batch_size = 8192)"
   ]
  },
  {
   "cell_type": "code",
   "execution_count": 17,
   "metadata": {},
   "outputs": [
    {
     "name": "stdout",
     "output_type": "stream",
     "text": [
      "auc_train=0.864178, auc_test=0.825236, accuracy_train=0.795725, accuracy_test=0.76878\n"
     ]
    }
   ],
   "source": [
    "auc_test = roc_auc_score(y_test,y_pred_test)\n",
    "accuracy_test = accuracy_score(y_test,y_pred_test>0.5)\n",
    "auc_train = roc_auc_score(y_train,y_pred_train)\n",
    "accuracy_train = accuracy_score(y_train,y_pred_train>0.5)\n",
    "\n",
    "print(\"auc_train=%g, auc_test=%g, accuracy_train=%g, accuracy_test=%g\" % (auc_train, auc_test, accuracy_train, accuracy_test))"
   ]
  },
  {
   "cell_type": "code",
   "execution_count": 18,
   "metadata": {},
   "outputs": [
    {
     "data": {
      "text/plain": [
       "Text(0.5,1,'ROC for testing data')"
      ]
     },
     "execution_count": 18,
     "metadata": {},
     "output_type": "execute_result"
    },
    {
     "data": {
      "image/png": "[encoded data removed]",
      "text/plain": [
       "<Figure size 720x360 with 2 Axes>"
      ]
     },
     "metadata": {},
     "output_type": "display_data"
    }
   ],
   "source": [
    "fpr_train, tpr_train, thresholds_train = roc_curve(y_train,y_pred_train)\n",
    "fpr_test, tpr_test, thresholds_test = roc_curve(y_test,y_pred_test)\n",
    "plt.figure(figsize=(10,5))\n",
    "plt.subplot(1,2,1)\n",
    "plt.plot(fpr_train,tpr_train, color=\"blue\", label=\"train roc, auc=%g\" % (auc_train,))\n",
    "plt.legend()\n",
    "plt.title(\"ROC for training data\")\n",
    "plt.subplot(1,2,2)\n",
    "plt.plot(fpr_test,tpr_test, color=\"green\", label=\"test roc, auc=%g\" % (auc_test,))\n",
    "plt.legend()\n",
    "plt.title(\"ROC for testing data\")"
   ]
  },
  {
   "cell_type": "code",
   "execution_count": 19,
   "metadata": {},
   "outputs": [
    {
     "name": "stdout",
     "output_type": "stream",
     "text": [
      "__________________________________________________________________________________________________\n",
      "Layer (type)                    Output Shape         Param #     Connected to                     \n",
      "==================================================================================================\n",
      "question_1 (InputLayer)         (None, 50)           0                                            \n",
      "__________________________________________________________________________________________________\n",
      "question_2 (InputLayer)         (None, 50)           0                                            \n",
      "__________________________________________________________________________________________________\n",
      "word2vec (Embedding)            (None, 50, 100)      40000100    question_1[0][0]                 \n",
      "                                                                 question_2[0][0]                 \n",
      "__________________________________________________________________________________________________\n",
      "get_word_weight (Embedding)     (None, 50, 1)        400001      question_1[0][0]                 \n",
      "                                                                 question_2[0][0]                 \n",
      "__________________________________________________________________________________________________\n",
      "multiply_1 (Multiply)           (None, 50, 100)      0           word2vec[0][0]                   \n",
      "                                                                 get_word_weight[0][0]            \n",
      "__________________________________________________________________________________________________\n",
      "multiply_2 (Multiply)           (None, 50, 100)      0           word2vec[1][0]                   \n",
      "                                                                 get_word_weight[1][0]            \n",
      "__________________________________________________________________________________________________\n",
      "lstm_1 (LSTM)                   (None, 50, 100)      80400       multiply_1[0][0]                 \n",
      "                                                                 multiply_2[0][0]                 \n",
      "__________________________________________________________________________________________________\n",
      "lstm_2 (LSTM)                   (None, 100)          80400       lstm_1[0][0]                     \n",
      "                                                                 lstm_1[1][0]                     \n",
      "__________________________________________________________________________________________________\n",
      "merge (Concatenate)             (None, 200)          0           lstm_2[0][0]                     \n",
      "                                                                 lstm_2[1][0]                     \n",
      "__________________________________________________________________________________________________\n",
      "sigmoid (Dense)                 (None, 1)            201         merge[0][0]                      \n",
      "==================================================================================================\n",
      "Total params: 40,561,102\n",
      "Trainable params: 561,002\n",
      "Non-trainable params: 40,000,100\n",
      "__________________________________________________________________________________________________\n"
     ]
    }
   ],
   "source": [
    "model.summary()"
   ]
  },
  {
   "cell_type": "code",
   "execution_count": null,
   "metadata": {},
   "outputs": [],
   "source": []
  },
  {
   "cell_type": "code",
   "execution_count": 20,
   "metadata": {},
   "outputs": [
    {
     "data": {
      "image/png": "[encoded data removed]",
      "text/plain": [
       "<IPython.core.display.Image object>"
      ]
     },
     "execution_count": 20,
     "metadata": {},
     "output_type": "execute_result"
    }
   ],
   "source": [
    "plot_model(model,to_file=\"model.png\")\n",
    "from IPython.display import Image\n",
    "Image(filename='model.png') "
   ]
  },
  {
   "cell_type": "code",
   "execution_count": null,
   "metadata": {},
   "outputs": [],
   "source": []
  }
 ],
 "metadata": {
  "kernelspec": {
   "display_name": "Python 3",
   "language": "python",
   "name": "python3"
  },
  "language_info": {
   "codemirror_mode": {
    "name": "ipython",
    "version": 3
   },
   "file_extension": ".py",
   "mimetype": "text/x-python",
   "name": "python",
   "nbconvert_exporter": "python",
   "pygments_lexer": "ipython3",
   "version": "3.6.5"
  }
 },
 "nbformat": 4,
 "nbformat_minor": 2
}
